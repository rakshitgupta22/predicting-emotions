{
  "cells": [
    {
      "cell_type": "markdown",
      "metadata": {
        "id": "view-in-github",
        "colab_type": "text"
      },
      "source": [
        "<a href=\"https://colab.research.google.com/github/rakshitgupta22/predicting-emotions/blob/main/Predicting_Emotions_from_Sound_Events_Using_Classification.ipynb\" target=\"_parent\"><img src=\"https://colab.research.google.com/assets/colab-badge.svg\" alt=\"Open In Colab\"/></a>"
      ]
    },
    {
      "cell_type": "markdown",
      "metadata": {
        "id": "QgtrQwRuwQJQ"
      },
      "source": [
        "**Load packages:**"
      ]
    },
    {
      "cell_type": "code",
      "execution_count": null,
      "metadata": {
        "id": "izAytFF0wQJR"
      },
      "outputs": [],
      "source": [
        "import numpy as np\n",
        "import pandas as pd\n",
        "import matplotlib.pyplot as plt\n",
        "\n",
        "\n",
        "import warnings\n",
        "warnings.filterwarnings(\"ignore\")\n",
        "\n",
        "%config InlineBackend.figure_format = 'retina'\n",
        "%matplotlib inline"
      ]
    },
    {
      "cell_type": "code",
      "execution_count": null,
      "metadata": {
        "id": "Q5o05aZLGU_V"
      },
      "outputs": [],
      "source": [
        "#1 Code to read csv file into colaboratory:\n",
        "!pip install -U -q PyDrive\n",
        "from pydrive.auth import GoogleAuth\n",
        "from pydrive.drive import GoogleDrive\n",
        "from google.colab import auth\n",
        "from oauth2client.client import GoogleCredentials\n",
        "\n",
        "# 1. Authenticate and create the PyDrive client.\n",
        "auth.authenticate_user()\n",
        "gauth = GoogleAuth()\n",
        "gauth.credentials = GoogleCredentials.get_application_default()\n",
        "drive = GoogleDrive(gauth)"
      ]
    },
    {
      "cell_type": "code",
      "execution_count": null,
      "metadata": {
        "id": "lLEFj1NMGWu9"
      },
      "outputs": [],
      "source": [
        "#2. Get the file\n",
        "#make sure you upload all your data files to your Google drive and change share->Advanced->change->anyone with the link can view\n",
        "downloaded = drive.CreateFile({'id':'1sriupReVhRh5EK2w41QQizYFWj_P0d8z'}) # replace the id with id of file you want to access\n",
        "downloaded.GetContentFile('EmoSounds.csv') \n",
        "\n",
        "downloaded = drive.CreateFile({'id':'1A9yZXyZx5ugZjj7s5Mi-Nb2UWXV2aE6f'}) \n",
        "downloaded.GetContentFile('IADSED.csv') \n"
      ]
    },
    {
      "cell_type": "markdown",
      "metadata": {
        "id": "YLUYo_dJwQJU"
      },
      "source": [
        "<a name='load_data'></a>\n",
        "\n",
        "### 1.1 EmoSounds Dataset Preprocessing\n",
        "\n",
        "---\n",
        "\n",
        "Import the csv into a pandas DataFrame."
      ]
    },
    {
      "cell_type": "code",
      "execution_count": null,
      "metadata": {
        "colab": {
          "base_uri": "https://localhost:8080/",
          "height": 386
        },
        "id": "_S1g1fCDwQJW",
        "outputId": "3cd97b5b-0482-474b-f36e-ae3000d9afa5"
      },
      "outputs": [
        {
          "output_type": "execute_result",
          "data": {
            "text/plain": [
              "           dataset                         fnames  genre splits vocals  \\\n",
              "0  Emo_Soundscapes  r_0human101979_1313063-hq.wav  human  train    Yes   \n",
              "1  Emo_Soundscapes   r_0human102617_425689-hq.wav  human  train     No   \n",
              "2  Emo_Soundscapes  r_0human106261_1707984-hq.wav  human  train    Yes   \n",
              "3  Emo_Soundscapes     r_0human106568_7037-hq.wav  human  train    Yes   \n",
              "4  Emo_Soundscapes  r_0human113598_1015240-hq.wav  human  train    Yes   \n",
              "\n",
              "    arousal   valence  dynamics_rms_mean  dynamics_rms_std  pitch_pitch_mean  \\\n",
              "0 -0.518549  0.302556           0.013444          0.005903        375.990904   \n",
              "1 -0.929101  0.564716           0.011291          0.008784        855.112001   \n",
              "2 -0.940643  0.345425           0.000291          0.000261        494.090737   \n",
              "3  0.475680  0.193735           0.052846          0.028216        739.893910   \n",
              "4  0.901072  0.429514           0.087529          0.020352        630.302807   \n",
              "\n",
              "   ...  timbre_lowenergy_mean  timbre_lowenergy_std  timbre_spectralflux_mean  \\\n",
              "0  ...               5.415367              1.558017                 10.204444   \n",
              "1  ...               4.652187              0.537740                  9.799859   \n",
              "2  ...               5.317143              1.175990                  0.310226   \n",
              "3  ...               4.998831              1.429992                 45.529733   \n",
              "4  ...               4.937357              1.028468                 67.812560   \n",
              "\n",
              "   timbre_spectralflux_std  tonal_hcdf_mean  tonal_hcdf_std  \\\n",
              "0                 5.785453         0.244838        0.321193   \n",
              "1                 8.441237         0.629594        0.341241   \n",
              "2                 0.342690         0.451562        0.433910   \n",
              "3                29.307053         0.337036        0.215957   \n",
              "4                16.124870         0.195859        0.101366   \n",
              "\n",
              "   tonal_keyclarity_mean  tonal_keyclarity_std  tonal_mode_mean  \\\n",
              "0               0.457834              0.171750        -0.043605   \n",
              "1               0.440244              0.132387        -0.023940   \n",
              "2               0.416266              0.162932        -0.032507   \n",
              "3               0.465368              0.129338        -0.031692   \n",
              "4               0.576344              0.150061        -0.086635   \n",
              "\n",
              "   tonal_mode_std  \n",
              "0        0.068892  \n",
              "1        0.098591  \n",
              "2        0.094219  \n",
              "3        0.096302  \n",
              "4        0.111011  \n",
              "\n",
              "[5 rows x 75 columns]"
            ],
            "text/html": [
              "\n",
              "  <div id=\"df-96fb632a-ddb9-45d3-a20f-57acef80a53d\">\n",
              "    <div class=\"colab-df-container\">\n",
              "      <div>\n",
              "<style scoped>\n",
              "    .dataframe tbody tr th:only-of-type {\n",
              "        vertical-align: middle;\n",
              "    }\n",
              "\n",
              "    .dataframe tbody tr th {\n",
              "        vertical-align: top;\n",
              "    }\n",
              "\n",
              "    .dataframe thead th {\n",
              "        text-align: right;\n",
              "    }\n",
              "</style>\n",
              "<table border=\"1\" class=\"dataframe\">\n",
              "  <thead>\n",
              "    <tr style=\"text-align: right;\">\n",
              "      <th></th>\n",
              "      <th>dataset</th>\n",
              "      <th>fnames</th>\n",
              "      <th>genre</th>\n",
              "      <th>splits</th>\n",
              "      <th>vocals</th>\n",
              "      <th>arousal</th>\n",
              "      <th>valence</th>\n",
              "      <th>dynamics_rms_mean</th>\n",
              "      <th>dynamics_rms_std</th>\n",
              "      <th>pitch_pitch_mean</th>\n",
              "      <th>...</th>\n",
              "      <th>timbre_lowenergy_mean</th>\n",
              "      <th>timbre_lowenergy_std</th>\n",
              "      <th>timbre_spectralflux_mean</th>\n",
              "      <th>timbre_spectralflux_std</th>\n",
              "      <th>tonal_hcdf_mean</th>\n",
              "      <th>tonal_hcdf_std</th>\n",
              "      <th>tonal_keyclarity_mean</th>\n",
              "      <th>tonal_keyclarity_std</th>\n",
              "      <th>tonal_mode_mean</th>\n",
              "      <th>tonal_mode_std</th>\n",
              "    </tr>\n",
              "  </thead>\n",
              "  <tbody>\n",
              "    <tr>\n",
              "      <th>0</th>\n",
              "      <td>Emo_Soundscapes</td>\n",
              "      <td>r_0human101979_1313063-hq.wav</td>\n",
              "      <td>human</td>\n",
              "      <td>train</td>\n",
              "      <td>Yes</td>\n",
              "      <td>-0.518549</td>\n",
              "      <td>0.302556</td>\n",
              "      <td>0.013444</td>\n",
              "      <td>0.005903</td>\n",
              "      <td>375.990904</td>\n",
              "      <td>...</td>\n",
              "      <td>5.415367</td>\n",
              "      <td>1.558017</td>\n",
              "      <td>10.204444</td>\n",
              "      <td>5.785453</td>\n",
              "      <td>0.244838</td>\n",
              "      <td>0.321193</td>\n",
              "      <td>0.457834</td>\n",
              "      <td>0.171750</td>\n",
              "      <td>-0.043605</td>\n",
              "      <td>0.068892</td>\n",
              "    </tr>\n",
              "    <tr>\n",
              "      <th>1</th>\n",
              "      <td>Emo_Soundscapes</td>\n",
              "      <td>r_0human102617_425689-hq.wav</td>\n",
              "      <td>human</td>\n",
              "      <td>train</td>\n",
              "      <td>No</td>\n",
              "      <td>-0.929101</td>\n",
              "      <td>0.564716</td>\n",
              "      <td>0.011291</td>\n",
              "      <td>0.008784</td>\n",
              "      <td>855.112001</td>\n",
              "      <td>...</td>\n",
              "      <td>4.652187</td>\n",
              "      <td>0.537740</td>\n",
              "      <td>9.799859</td>\n",
              "      <td>8.441237</td>\n",
              "      <td>0.629594</td>\n",
              "      <td>0.341241</td>\n",
              "      <td>0.440244</td>\n",
              "      <td>0.132387</td>\n",
              "      <td>-0.023940</td>\n",
              "      <td>0.098591</td>\n",
              "    </tr>\n",
              "    <tr>\n",
              "      <th>2</th>\n",
              "      <td>Emo_Soundscapes</td>\n",
              "      <td>r_0human106261_1707984-hq.wav</td>\n",
              "      <td>human</td>\n",
              "      <td>train</td>\n",
              "      <td>Yes</td>\n",
              "      <td>-0.940643</td>\n",
              "      <td>0.345425</td>\n",
              "      <td>0.000291</td>\n",
              "      <td>0.000261</td>\n",
              "      <td>494.090737</td>\n",
              "      <td>...</td>\n",
              "      <td>5.317143</td>\n",
              "      <td>1.175990</td>\n",
              "      <td>0.310226</td>\n",
              "      <td>0.342690</td>\n",
              "      <td>0.451562</td>\n",
              "      <td>0.433910</td>\n",
              "      <td>0.416266</td>\n",
              "      <td>0.162932</td>\n",
              "      <td>-0.032507</td>\n",
              "      <td>0.094219</td>\n",
              "    </tr>\n",
              "    <tr>\n",
              "      <th>3</th>\n",
              "      <td>Emo_Soundscapes</td>\n",
              "      <td>r_0human106568_7037-hq.wav</td>\n",
              "      <td>human</td>\n",
              "      <td>train</td>\n",
              "      <td>Yes</td>\n",
              "      <td>0.475680</td>\n",
              "      <td>0.193735</td>\n",
              "      <td>0.052846</td>\n",
              "      <td>0.028216</td>\n",
              "      <td>739.893910</td>\n",
              "      <td>...</td>\n",
              "      <td>4.998831</td>\n",
              "      <td>1.429992</td>\n",
              "      <td>45.529733</td>\n",
              "      <td>29.307053</td>\n",
              "      <td>0.337036</td>\n",
              "      <td>0.215957</td>\n",
              "      <td>0.465368</td>\n",
              "      <td>0.129338</td>\n",
              "      <td>-0.031692</td>\n",
              "      <td>0.096302</td>\n",
              "    </tr>\n",
              "    <tr>\n",
              "      <th>4</th>\n",
              "      <td>Emo_Soundscapes</td>\n",
              "      <td>r_0human113598_1015240-hq.wav</td>\n",
              "      <td>human</td>\n",
              "      <td>train</td>\n",
              "      <td>Yes</td>\n",
              "      <td>0.901072</td>\n",
              "      <td>0.429514</td>\n",
              "      <td>0.087529</td>\n",
              "      <td>0.020352</td>\n",
              "      <td>630.302807</td>\n",
              "      <td>...</td>\n",
              "      <td>4.937357</td>\n",
              "      <td>1.028468</td>\n",
              "      <td>67.812560</td>\n",
              "      <td>16.124870</td>\n",
              "      <td>0.195859</td>\n",
              "      <td>0.101366</td>\n",
              "      <td>0.576344</td>\n",
              "      <td>0.150061</td>\n",
              "      <td>-0.086635</td>\n",
              "      <td>0.111011</td>\n",
              "    </tr>\n",
              "  </tbody>\n",
              "</table>\n",
              "<p>5 rows × 75 columns</p>\n",
              "</div>\n",
              "      <button class=\"colab-df-convert\" onclick=\"convertToInteractive('df-96fb632a-ddb9-45d3-a20f-57acef80a53d')\"\n",
              "              title=\"Convert this dataframe to an interactive table.\"\n",
              "              style=\"display:none;\">\n",
              "        \n",
              "  <svg xmlns=\"http://www.w3.org/2000/svg\" height=\"24px\"viewBox=\"0 0 24 24\"\n",
              "       width=\"24px\">\n",
              "    <path d=\"M0 0h24v24H0V0z\" fill=\"none\"/>\n",
              "    <path d=\"M18.56 5.44l.94 2.06.94-2.06 2.06-.94-2.06-.94-.94-2.06-.94 2.06-2.06.94zm-11 1L8.5 8.5l.94-2.06 2.06-.94-2.06-.94L8.5 2.5l-.94 2.06-2.06.94zm10 10l.94 2.06.94-2.06 2.06-.94-2.06-.94-.94-2.06-.94 2.06-2.06.94z\"/><path d=\"M17.41 7.96l-1.37-1.37c-.4-.4-.92-.59-1.43-.59-.52 0-1.04.2-1.43.59L10.3 9.45l-7.72 7.72c-.78.78-.78 2.05 0 2.83L4 21.41c.39.39.9.59 1.41.59.51 0 1.02-.2 1.41-.59l7.78-7.78 2.81-2.81c.8-.78.8-2.07 0-2.86zM5.41 20L4 18.59l7.72-7.72 1.47 1.35L5.41 20z\"/>\n",
              "  </svg>\n",
              "      </button>\n",
              "      \n",
              "  <style>\n",
              "    .colab-df-container {\n",
              "      display:flex;\n",
              "      flex-wrap:wrap;\n",
              "      gap: 12px;\n",
              "    }\n",
              "\n",
              "    .colab-df-convert {\n",
              "      background-color: #E8F0FE;\n",
              "      border: none;\n",
              "      border-radius: 50%;\n",
              "      cursor: pointer;\n",
              "      display: none;\n",
              "      fill: #1967D2;\n",
              "      height: 32px;\n",
              "      padding: 0 0 0 0;\n",
              "      width: 32px;\n",
              "    }\n",
              "\n",
              "    .colab-df-convert:hover {\n",
              "      background-color: #E2EBFA;\n",
              "      box-shadow: 0px 1px 2px rgba(60, 64, 67, 0.3), 0px 1px 3px 1px rgba(60, 64, 67, 0.15);\n",
              "      fill: #174EA6;\n",
              "    }\n",
              "\n",
              "    [theme=dark] .colab-df-convert {\n",
              "      background-color: #3B4455;\n",
              "      fill: #D2E3FC;\n",
              "    }\n",
              "\n",
              "    [theme=dark] .colab-df-convert:hover {\n",
              "      background-color: #434B5C;\n",
              "      box-shadow: 0px 1px 3px 1px rgba(0, 0, 0, 0.15);\n",
              "      filter: drop-shadow(0px 1px 2px rgba(0, 0, 0, 0.3));\n",
              "      fill: #FFFFFF;\n",
              "    }\n",
              "  </style>\n",
              "\n",
              "      <script>\n",
              "        const buttonEl =\n",
              "          document.querySelector('#df-96fb632a-ddb9-45d3-a20f-57acef80a53d button.colab-df-convert');\n",
              "        buttonEl.style.display =\n",
              "          google.colab.kernel.accessAllowed ? 'block' : 'none';\n",
              "\n",
              "        async function convertToInteractive(key) {\n",
              "          const element = document.querySelector('#df-96fb632a-ddb9-45d3-a20f-57acef80a53d');\n",
              "          const dataTable =\n",
              "            await google.colab.kernel.invokeFunction('convertToInteractive',\n",
              "                                                     [key], {});\n",
              "          if (!dataTable) return;\n",
              "\n",
              "          const docLinkHtml = 'Like what you see? Visit the ' +\n",
              "            '<a target=\"_blank\" href=https://colab.research.google.com/notebooks/data_table.ipynb>data table notebook</a>'\n",
              "            + ' to learn more about interactive tables.';\n",
              "          element.innerHTML = '';\n",
              "          dataTable['output_type'] = 'display_data';\n",
              "          await google.colab.output.renderOutput(dataTable, element);\n",
              "          const docLink = document.createElement('div');\n",
              "          docLink.innerHTML = docLinkHtml;\n",
              "          element.appendChild(docLink);\n",
              "        }\n",
              "      </script>\n",
              "    </div>\n",
              "  </div>\n",
              "  "
            ]
          },
          "metadata": {},
          "execution_count": 6
        }
      ],
      "source": [
        "# Read EmoSounds.csv into a DataFrame.\n",
        "emo_sounds_file = 'EmoSounds.csv'\n",
        "\n",
        "emo_sounds = pd.read_csv(emo_sounds_file)\n",
        "emo_sounds.head(5)"
      ]
    },
    {
      "cell_type": "code",
      "execution_count": null,
      "metadata": {
        "colab": {
          "base_uri": "https://localhost:8080/"
        },
        "id": "VDSd63p9MGfD",
        "outputId": "8d7b12cf-cf55-4e98-860a-d707ac7c2fc9"
      },
      "outputs": [
        {
          "output_type": "execute_result",
          "data": {
            "text/plain": [
              "(600, 75)"
            ]
          },
          "metadata": {},
          "execution_count": 7
        }
      ],
      "source": [
        "emo_sounds.shape"
      ]
    },
    {
      "cell_type": "code",
      "execution_count": null,
      "metadata": {
        "colab": {
          "base_uri": "https://localhost:8080/"
        },
        "id": "-S2jW75cE4hk",
        "outputId": "4ff9a723-6587-4d7d-ae01-ca96031d2ea3"
      },
      "outputs": [
        {
          "output_type": "execute_result",
          "data": {
            "text/plain": [
              "Series([], dtype: int64)"
            ]
          },
          "metadata": {},
          "execution_count": 8
        }
      ],
      "source": [
        "# Get all the columns which have missing values\n",
        "\n",
        "emo_null_count = emo_sounds.isnull().sum()\n",
        "emo_null_count[emo_null_count > 0].sort_values(ascending = False)\n",
        "## There are no missing values in EmoSounds dataset."
      ]
    },
    {
      "cell_type": "code",
      "source": [
        "fig, axes = plt.subplots(1,3, figsize=(24,8))\n",
        "plt.rcParams['font.size'] = '15'\n",
        "emo_plot = emo_sounds.plot(ax=axes[0], kind='scatter', y='arousal', x='valence');\n",
        "emo_plot.axhline(0, color = 'black')\n",
        "emo_plot.axvline(0, color = 'black')\n",
        "emo_sounds['arousal'].plot(ax=axes[1], kind='line', style='*b', xlabel='sample number', ylabel='arousal value');\n",
        "emo_sounds['valence'].plot(ax=axes[2], kind='line', style='*b', xlabel='sample number', ylabel='valence value');"
      ],
      "metadata": {
        "colab": {
          "base_uri": "https://localhost:8080/",
          "height": 496
        },
        "id": "AprCKDq9YCFe",
        "outputId": "0d24df56-cc9e-4625-e11d-38dc53223892"
      },
      "execution_count": null,
      "outputs": [
        {
          "output_type": "display_data",
          "data": {
            "text/plain": [
              "<Figure size 1728x576 with 3 Axes>"
            ],
            "image/png": "[encoded data removed]"
          },
          "metadata": {
            "image/png": {
              "width": 1404,
              "height": 479
            },
            "needs_background": "light"
          }
        }
      ]
    },
    {
      "cell_type": "code",
      "source": [
        "print('The maximum value of arousal is {}'.format(emo_sounds['arousal'].max()))\n",
        "print('The minimum value of arousal is {}'.format(emo_sounds['arousal'].min()))\n",
        "print('The maximum value of valence is {}'.format(emo_sounds['valence'].max()))\n",
        "print('The minimum value of valence is {}'.format(emo_sounds['valence'].min()))"
      ],
      "metadata": {
        "colab": {
          "base_uri": "https://localhost:8080/"
        },
        "id": "b3JL0P95bYTl",
        "outputId": "cfb0f959-c44a-418a-b101-aec8833d0aed"
      },
      "execution_count": null,
      "outputs": [
        {
          "output_type": "stream",
          "name": "stdout",
          "text": [
            "The maximum value of arousal is 1.0\n",
            "The minimum value of arousal is -0.998351195\n",
            "The maximum value of valence is 0.986809563\n",
            "The minimum value of valence is -0.998351195\n"
          ]
        }
      ]
    },
    {
      "cell_type": "code",
      "source": [
        "# No need to Map the 'arousal' and 'valence' to value range of (-1, 1)"
      ],
      "metadata": {
        "id": "0dwBlIXFqsFE"
      },
      "execution_count": null,
      "outputs": []
    },
    {
      "cell_type": "code",
      "source": [
        "# Create a new dataset with labels\n",
        "emo_new = emo_sounds.assign(targetColumn = 0)\n",
        "emo_new.loc[(emo_new['arousal']>=0) & (emo_new['valence']>=0), 'targetColumn'] = '1'  # High-Arousal, Positive-Valence\n",
        "emo_new.loc[(emo_new['arousal']>=0) & (emo_new['valence']<0), 'targetColumn'] = '2'   # High-Arousal, Negative-Valence\n",
        "emo_new.loc[(emo_new['arousal']<0) & (emo_new['valence']<0), 'targetColumn'] = '3'    # Low-Arousal, Negative-Valence\n",
        "emo_new.loc[(emo_new['arousal']<0) & (emo_new['valence']>=0), 'targetColumn'] = '4'   # Low-Arousal, Positive-Valence"
      ],
      "metadata": {
        "id": "lY9FaoCBesnw"
      },
      "execution_count": null,
      "outputs": []
    },
    {
      "cell_type": "code",
      "source": [
        "# Shift the 'label' column ahead for better visualization.\n",
        "label = emo_new.pop('targetColumn')\n",
        "emo_new.insert(7, 'targetColumn', label)\n",
        "emo_new.head()"
      ],
      "metadata": {
        "colab": {
          "base_uri": "https://localhost:8080/",
          "height": 386
        },
        "id": "E6qV_IyLwvDR",
        "outputId": "fbcb86ef-33df-41ea-d591-b1f2f48f64ec"
      },
      "execution_count": null,
      "outputs": [
        {
          "output_type": "execute_result",
          "data": {
            "text/plain": [
              "           dataset                         fnames  genre splits vocals  \\\n",
              "0  Emo_Soundscapes  r_0human101979_1313063-hq.wav  human  train    Yes   \n",
              "1  Emo_Soundscapes   r_0human102617_425689-hq.wav  human  train     No   \n",
              "2  Emo_Soundscapes  r_0human106261_1707984-hq.wav  human  train    Yes   \n",
              "3  Emo_Soundscapes     r_0human106568_7037-hq.wav  human  train    Yes   \n",
              "4  Emo_Soundscapes  r_0human113598_1015240-hq.wav  human  train    Yes   \n",
              "\n",
              "    arousal   valence targetColumn  dynamics_rms_mean  dynamics_rms_std  ...  \\\n",
              "0 -0.518549  0.302556            4           0.013444          0.005903  ...   \n",
              "1 -0.929101  0.564716            4           0.011291          0.008784  ...   \n",
              "2 -0.940643  0.345425            4           0.000291          0.000261  ...   \n",
              "3  0.475680  0.193735            1           0.052846          0.028216  ...   \n",
              "4  0.901072  0.429514            1           0.087529          0.020352  ...   \n",
              "\n",
              "   timbre_lowenergy_mean  timbre_lowenergy_std  timbre_spectralflux_mean  \\\n",
              "0               5.415367              1.558017                 10.204444   \n",
              "1               4.652187              0.537740                  9.799859   \n",
              "2               5.317143              1.175990                  0.310226   \n",
              "3               4.998831              1.429992                 45.529733   \n",
              "4               4.937357              1.028468                 67.812560   \n",
              "\n",
              "   timbre_spectralflux_std  tonal_hcdf_mean  tonal_hcdf_std  \\\n",
              "0                 5.785453         0.244838        0.321193   \n",
              "1                 8.441237         0.629594        0.341241   \n",
              "2                 0.342690         0.451562        0.433910   \n",
              "3                29.307053         0.337036        0.215957   \n",
              "4                16.124870         0.195859        0.101366   \n",
              "\n",
              "   tonal_keyclarity_mean  tonal_keyclarity_std  tonal_mode_mean  \\\n",
              "0               0.457834              0.171750        -0.043605   \n",
              "1               0.440244              0.132387        -0.023940   \n",
              "2               0.416266              0.162932        -0.032507   \n",
              "3               0.465368              0.129338        -0.031692   \n",
              "4               0.576344              0.150061        -0.086635   \n",
              "\n",
              "   tonal_mode_std  \n",
              "0        0.068892  \n",
              "1        0.098591  \n",
              "2        0.094219  \n",
              "3        0.096302  \n",
              "4        0.111011  \n",
              "\n",
              "[5 rows x 76 columns]"
            ],
            "text/html": [
              "\n",
              "  <div id=\"df-49270454-6fad-4863-a8ef-f2c479995323\">\n",
              "    <div class=\"colab-df-container\">\n",
              "      <div>\n",
              "<style scoped>\n",
              "    .dataframe tbody tr th:only-of-type {\n",
              "        vertical-align: middle;\n",
              "    }\n",
              "\n",
              "    .dataframe tbody tr th {\n",
              "        vertical-align: top;\n",
              "    }\n",
              "\n",
              "    .dataframe thead th {\n",
              "        text-align: right;\n",
              "    }\n",
              "</style>\n",
              "<table border=\"1\" class=\"dataframe\">\n",
              "  <thead>\n",
              "    <tr style=\"text-align: right;\">\n",
              "      <th></th>\n",
              "      <th>dataset</th>\n",
              "      <th>fnames</th>\n",
              "      <th>genre</th>\n",
              "      <th>splits</th>\n",
              "      <th>vocals</th>\n",
              "      <th>arousal</th>\n",
              "      <th>valence</th>\n",
              "      <th>targetColumn</th>\n",
              "      <th>dynamics_rms_mean</th>\n",
              "      <th>dynamics_rms_std</th>\n",
              "      <th>...</th>\n",
              "      <th>timbre_lowenergy_mean</th>\n",
              "      <th>timbre_lowenergy_std</th>\n",
              "      <th>timbre_spectralflux_mean</th>\n",
              "      <th>timbre_spectralflux_std</th>\n",
              "      <th>tonal_hcdf_mean</th>\n",
              "      <th>tonal_hcdf_std</th>\n",
              "      <th>tonal_keyclarity_mean</th>\n",
              "      <th>tonal_keyclarity_std</th>\n",
              "      <th>tonal_mode_mean</th>\n",
              "      <th>tonal_mode_std</th>\n",
              "    </tr>\n",
              "  </thead>\n",
              "  <tbody>\n",
              "    <tr>\n",
              "      <th>0</th>\n",
              "      <td>Emo_Soundscapes</td>\n",
              "      <td>r_0human101979_1313063-hq.wav</td>\n",
              "      <td>human</td>\n",
              "      <td>train</td>\n",
              "      <td>Yes</td>\n",
              "      <td>-0.518549</td>\n",
              "      <td>0.302556</td>\n",
              "      <td>4</td>\n",
              "      <td>0.013444</td>\n",
              "      <td>0.005903</td>\n",
              "      <td>...</td>\n",
              "      <td>5.415367</td>\n",
              "      <td>1.558017</td>\n",
              "      <td>10.204444</td>\n",
              "      <td>5.785453</td>\n",
              "      <td>0.244838</td>\n",
              "      <td>0.321193</td>\n",
              "      <td>0.457834</td>\n",
              "      <td>0.171750</td>\n",
              "      <td>-0.043605</td>\n",
              "      <td>0.068892</td>\n",
              "    </tr>\n",
              "    <tr>\n",
              "      <th>1</th>\n",
              "      <td>Emo_Soundscapes</td>\n",
              "      <td>r_0human102617_425689-hq.wav</td>\n",
              "      <td>human</td>\n",
              "      <td>train</td>\n",
              "      <td>No</td>\n",
              "      <td>-0.929101</td>\n",
              "      <td>0.564716</td>\n",
              "      <td>4</td>\n",
              "      <td>0.011291</td>\n",
              "      <td>0.008784</td>\n",
              "      <td>...</td>\n",
              "      <td>4.652187</td>\n",
              "      <td>0.537740</td>\n",
              "      <td>9.799859</td>\n",
              "      <td>8.441237</td>\n",
              "      <td>0.629594</td>\n",
              "      <td>0.341241</td>\n",
              "      <td>0.440244</td>\n",
              "      <td>0.132387</td>\n",
              "      <td>-0.023940</td>\n",
              "      <td>0.098591</td>\n",
              "    </tr>\n",
              "    <tr>\n",
              "      <th>2</th>\n",
              "      <td>Emo_Soundscapes</td>\n",
              "      <td>r_0human106261_1707984-hq.wav</td>\n",
              "      <td>human</td>\n",
              "      <td>train</td>\n",
              "      <td>Yes</td>\n",
              "      <td>-0.940643</td>\n",
              "      <td>0.345425</td>\n",
              "      <td>4</td>\n",
              "      <td>0.000291</td>\n",
              "      <td>0.000261</td>\n",
              "      <td>...</td>\n",
              "      <td>5.317143</td>\n",
              "      <td>1.175990</td>\n",
              "      <td>0.310226</td>\n",
              "      <td>0.342690</td>\n",
              "      <td>0.451562</td>\n",
              "      <td>0.433910</td>\n",
              "      <td>0.416266</td>\n",
              "      <td>0.162932</td>\n",
              "      <td>-0.032507</td>\n",
              "      <td>0.094219</td>\n",
              "    </tr>\n",
              "    <tr>\n",
              "      <th>3</th>\n",
              "      <td>Emo_Soundscapes</td>\n",
              "      <td>r_0human106568_7037-hq.wav</td>\n",
              "      <td>human</td>\n",
              "      <td>train</td>\n",
              "      <td>Yes</td>\n",
              "      <td>0.475680</td>\n",
              "      <td>0.193735</td>\n",
              "      <td>1</td>\n",
              "      <td>0.052846</td>\n",
              "      <td>0.028216</td>\n",
              "      <td>...</td>\n",
              "      <td>4.998831</td>\n",
              "      <td>1.429992</td>\n",
              "      <td>45.529733</td>\n",
              "      <td>29.307053</td>\n",
              "      <td>0.337036</td>\n",
              "      <td>0.215957</td>\n",
              "      <td>0.465368</td>\n",
              "      <td>0.129338</td>\n",
              "      <td>-0.031692</td>\n",
              "      <td>0.096302</td>\n",
              "    </tr>\n",
              "    <tr>\n",
              "      <th>4</th>\n",
              "      <td>Emo_Soundscapes</td>\n",
              "      <td>r_0human113598_1015240-hq.wav</td>\n",
              "      <td>human</td>\n",
              "      <td>train</td>\n",
              "      <td>Yes</td>\n",
              "      <td>0.901072</td>\n",
              "      <td>0.429514</td>\n",
              "      <td>1</td>\n",
              "      <td>0.087529</td>\n",
              "      <td>0.020352</td>\n",
              "      <td>...</td>\n",
              "      <td>4.937357</td>\n",
              "      <td>1.028468</td>\n",
              "      <td>67.812560</td>\n",
              "      <td>16.124870</td>\n",
              "      <td>0.195859</td>\n",
              "      <td>0.101366</td>\n",
              "      <td>0.576344</td>\n",
              "      <td>0.150061</td>\n",
              "      <td>-0.086635</td>\n",
              "      <td>0.111011</td>\n",
              "    </tr>\n",
              "  </tbody>\n",
              "</table>\n",
              "<p>5 rows × 76 columns</p>\n",
              "</div>\n",
              "      <button class=\"colab-df-convert\" onclick=\"convertToInteractive('df-49270454-6fad-4863-a8ef-f2c479995323')\"\n",
              "              title=\"Convert this dataframe to an interactive table.\"\n",
              "              style=\"display:none;\">\n",
              "        \n",
              "  <svg xmlns=\"http://www.w3.org/2000/svg\" height=\"24px\"viewBox=\"0 0 24 24\"\n",
              "       width=\"24px\">\n",
              "    <path d=\"M0 0h24v24H0V0z\" fill=\"none\"/>\n",
              "    <path d=\"M18.56 5.44l.94 2.06.94-2.06 2.06-.94-2.06-.94-.94-2.06-.94 2.06-2.06.94zm-11 1L8.5 8.5l.94-2.06 2.06-.94-2.06-.94L8.5 2.5l-.94 2.06-2.06.94zm10 10l.94 2.06.94-2.06 2.06-.94-2.06-.94-.94-2.06-.94 2.06-2.06.94z\"/><path d=\"M17.41 7.96l-1.37-1.37c-.4-.4-.92-.59-1.43-.59-.52 0-1.04.2-1.43.59L10.3 9.45l-7.72 7.72c-.78.78-.78 2.05 0 2.83L4 21.41c.39.39.9.59 1.41.59.51 0 1.02-.2 1.41-.59l7.78-7.78 2.81-2.81c.8-.78.8-2.07 0-2.86zM5.41 20L4 18.59l7.72-7.72 1.47 1.35L5.41 20z\"/>\n",
              "  </svg>\n",
              "      </button>\n",
              "      \n",
              "  <style>\n",
              "    .colab-df-container {\n",
              "      display:flex;\n",
              "      flex-wrap:wrap;\n",
              "      gap: 12px;\n",
              "    }\n",
              "\n",
              "    .colab-df-convert {\n",
              "      background-color: #E8F0FE;\n",
              "      border: none;\n",
              "      border-radius: 50%;\n",
              "      cursor: pointer;\n",
              "      display: none;\n",
              "      fill: #1967D2;\n",
              "      height: 32px;\n",
              "      padding: 0 0 0 0;\n",
              "      width: 32px;\n",
              "    }\n",
              "\n",
              "    .colab-df-convert:hover {\n",
              "      background-color: #E2EBFA;\n",
              "      box-shadow: 0px 1px 2px rgba(60, 64, 67, 0.3), 0px 1px 3px 1px rgba(60, 64, 67, 0.15);\n",
              "      fill: #174EA6;\n",
              "    }\n",
              "\n",
              "    [theme=dark] .colab-df-convert {\n",
              "      background-color: #3B4455;\n",
              "      fill: #D2E3FC;\n",
              "    }\n",
              "\n",
              "    [theme=dark] .colab-df-convert:hover {\n",
              "      background-color: #434B5C;\n",
              "      box-shadow: 0px 1px 3px 1px rgba(0, 0, 0, 0.15);\n",
              "      filter: drop-shadow(0px 1px 2px rgba(0, 0, 0, 0.3));\n",
              "      fill: #FFFFFF;\n",
              "    }\n",
              "  </style>\n",
              "\n",
              "      <script>\n",
              "        const buttonEl =\n",
              "          document.querySelector('#df-49270454-6fad-4863-a8ef-f2c479995323 button.colab-df-convert');\n",
              "        buttonEl.style.display =\n",
              "          google.colab.kernel.accessAllowed ? 'block' : 'none';\n",
              "\n",
              "        async function convertToInteractive(key) {\n",
              "          const element = document.querySelector('#df-49270454-6fad-4863-a8ef-f2c479995323');\n",
              "          const dataTable =\n",
              "            await google.colab.kernel.invokeFunction('convertToInteractive',\n",
              "                                                     [key], {});\n",
              "          if (!dataTable) return;\n",
              "\n",
              "          const docLinkHtml = 'Like what you see? Visit the ' +\n",
              "            '<a target=\"_blank\" href=https://colab.research.google.com/notebooks/data_table.ipynb>data table notebook</a>'\n",
              "            + ' to learn more about interactive tables.';\n",
              "          element.innerHTML = '';\n",
              "          dataTable['output_type'] = 'display_data';\n",
              "          await google.colab.output.renderOutput(dataTable, element);\n",
              "          const docLink = document.createElement('div');\n",
              "          docLink.innerHTML = docLinkHtml;\n",
              "          element.appendChild(docLink);\n",
              "        }\n",
              "      </script>\n",
              "    </div>\n",
              "  </div>\n",
              "  "
            ]
          },
          "metadata": {},
          "execution_count": 13
        }
      ]
    },
    {
      "cell_type": "code",
      "source": [
        "# Check the numbers of each category---- Imbalanced \n",
        "emo_new['targetColumn'].value_counts()"
      ],
      "metadata": {
        "colab": {
          "base_uri": "https://localhost:8080/"
        },
        "id": "DtqtAg_UvHI0",
        "outputId": "f29891da-3ecf-4999-b98f-7c6cffc249b0"
      },
      "execution_count": null,
      "outputs": [
        {
          "output_type": "execute_result",
          "data": {
            "text/plain": [
              "2    232\n",
              "4    205\n",
              "3    101\n",
              "1     62\n",
              "Name: targetColumn, dtype: int64"
            ]
          },
          "metadata": {},
          "execution_count": 14
        }
      ]
    },
    {
      "cell_type": "code",
      "execution_count": null,
      "metadata": {
        "colab": {
          "base_uri": "https://localhost:8080/",
          "height": 386
        },
        "id": "B9HvUno9MDmY",
        "outputId": "fd202339-1006-41e0-ec28-3be97721cc4f"
      },
      "outputs": [
        {
          "output_type": "execute_result",
          "data": {
            "text/plain": [
              "           dataset                         fnames  genre splits vocals  \\\n",
              "0  Emo_Soundscapes  r_0human101979_1313063-hq.wav  human  train    Yes   \n",
              "1  Emo_Soundscapes   r_0human102617_425689-hq.wav  human  train     No   \n",
              "2  Emo_Soundscapes  r_0human106261_1707984-hq.wav  human  train    Yes   \n",
              "3  Emo_Soundscapes     r_0human106568_7037-hq.wav  human  train    Yes   \n",
              "4  Emo_Soundscapes  r_0human113598_1015240-hq.wav  human  train    Yes   \n",
              "\n",
              "    arousal   valence targetColumn  dynamics_rms_mean  dynamics_rms_std  ...  \\\n",
              "0 -0.518549  0.302556            4           0.021317          0.024205  ...   \n",
              "1 -0.929101  0.564716            4           0.017856          0.036140  ...   \n",
              "2 -0.940643  0.345425            4           0.000177          0.000833  ...   \n",
              "3  0.475680  0.193735            1           0.084644          0.116640  ...   \n",
              "4  0.901072  0.429514            1           0.140388          0.084062  ...   \n",
              "\n",
              "   timbre_lowenergy_mean  timbre_lowenergy_std  timbre_spectralflux_mean  \\\n",
              "0               0.441651              0.393137                  0.019267   \n",
              "1               0.159645              0.056379                  0.018493   \n",
              "2               0.405356              0.267044                  0.000341   \n",
              "3               0.287735              0.350881                  0.086838   \n",
              "4               0.265019              0.218352                  0.129461   \n",
              "\n",
              "   timbre_spectralflux_std  tonal_hcdf_mean  tonal_hcdf_std  \\\n",
              "0                 0.022736         0.300451        0.473395   \n",
              "1                 0.033291         0.777505        0.504023   \n",
              "2                 0.001105         0.556765        0.645596   \n",
              "3                 0.116217         0.414766        0.312622   \n",
              "4                 0.063828         0.239722        0.137558   \n",
              "\n",
              "   tonal_keyclarity_mean  tonal_keyclarity_std  tonal_mode_mean  \\\n",
              "0               0.584372              0.563060         0.421966   \n",
              "1               0.560661              0.418816         0.477124   \n",
              "2               0.528339              0.530746         0.453095   \n",
              "3               0.594527              0.407643         0.455381   \n",
              "4               0.744121              0.483581         0.301274   \n",
              "\n",
              "   tonal_mode_std  \n",
              "0        0.430271  \n",
              "1        0.626211  \n",
              "2        0.597366  \n",
              "3        0.611109  \n",
              "4        0.708152  \n",
              "\n",
              "[5 rows x 76 columns]"
            ],
            "text/html": [
              "\n",
              "  <div id=\"df-9c365e37-4e52-44bb-a48c-0737328da4de\">\n",
              "    <div class=\"colab-df-container\">\n",
              "      <div>\n",
              "<style scoped>\n",
              "    .dataframe tbody tr th:only-of-type {\n",
              "        vertical-align: middle;\n",
              "    }\n",
              "\n",
              "    .dataframe tbody tr th {\n",
              "        vertical-align: top;\n",
              "    }\n",
              "\n",
              "    .dataframe thead th {\n",
              "        text-align: right;\n",
              "    }\n",
              "</style>\n",
              "<table border=\"1\" class=\"dataframe\">\n",
              "  <thead>\n",
              "    <tr style=\"text-align: right;\">\n",
              "      <th></th>\n",
              "      <th>dataset</th>\n",
              "      <th>fnames</th>\n",
              "      <th>genre</th>\n",
              "      <th>splits</th>\n",
              "      <th>vocals</th>\n",
              "      <th>arousal</th>\n",
              "      <th>valence</th>\n",
              "      <th>targetColumn</th>\n",
              "      <th>dynamics_rms_mean</th>\n",
              "      <th>dynamics_rms_std</th>\n",
              "      <th>...</th>\n",
              "      <th>timbre_lowenergy_mean</th>\n",
              "      <th>timbre_lowenergy_std</th>\n",
              "      <th>timbre_spectralflux_mean</th>\n",
              "      <th>timbre_spectralflux_std</th>\n",
              "      <th>tonal_hcdf_mean</th>\n",
              "      <th>tonal_hcdf_std</th>\n",
              "      <th>tonal_keyclarity_mean</th>\n",
              "      <th>tonal_keyclarity_std</th>\n",
              "      <th>tonal_mode_mean</th>\n",
              "      <th>tonal_mode_std</th>\n",
              "    </tr>\n",
              "  </thead>\n",
              "  <tbody>\n",
              "    <tr>\n",
              "      <th>0</th>\n",
              "      <td>Emo_Soundscapes</td>\n",
              "      <td>r_0human101979_1313063-hq.wav</td>\n",
              "      <td>human</td>\n",
              "      <td>train</td>\n",
              "      <td>Yes</td>\n",
              "      <td>-0.518549</td>\n",
              "      <td>0.302556</td>\n",
              "      <td>4</td>\n",
              "      <td>0.021317</td>\n",
              "      <td>0.024205</td>\n",
              "      <td>...</td>\n",
              "      <td>0.441651</td>\n",
              "      <td>0.393137</td>\n",
              "      <td>0.019267</td>\n",
              "      <td>0.022736</td>\n",
              "      <td>0.300451</td>\n",
              "      <td>0.473395</td>\n",
              "      <td>0.584372</td>\n",
              "      <td>0.563060</td>\n",
              "      <td>0.421966</td>\n",
              "      <td>0.430271</td>\n",
              "    </tr>\n",
              "    <tr>\n",
              "      <th>1</th>\n",
              "      <td>Emo_Soundscapes</td>\n",
              "      <td>r_0human102617_425689-hq.wav</td>\n",
              "      <td>human</td>\n",
              "      <td>train</td>\n",
              "      <td>No</td>\n",
              "      <td>-0.929101</td>\n",
              "      <td>0.564716</td>\n",
              "      <td>4</td>\n",
              "      <td>0.017856</td>\n",
              "      <td>0.036140</td>\n",
              "      <td>...</td>\n",
              "      <td>0.159645</td>\n",
              "      <td>0.056379</td>\n",
              "      <td>0.018493</td>\n",
              "      <td>0.033291</td>\n",
              "      <td>0.777505</td>\n",
              "      <td>0.504023</td>\n",
              "      <td>0.560661</td>\n",
              "      <td>0.418816</td>\n",
              "      <td>0.477124</td>\n",
              "      <td>0.626211</td>\n",
              "    </tr>\n",
              "    <tr>\n",
              "      <th>2</th>\n",
              "      <td>Emo_Soundscapes</td>\n",
              "      <td>r_0human106261_1707984-hq.wav</td>\n",
              "      <td>human</td>\n",
              "      <td>train</td>\n",
              "      <td>Yes</td>\n",
              "      <td>-0.940643</td>\n",
              "      <td>0.345425</td>\n",
              "      <td>4</td>\n",
              "      <td>0.000177</td>\n",
              "      <td>0.000833</td>\n",
              "      <td>...</td>\n",
              "      <td>0.405356</td>\n",
              "      <td>0.267044</td>\n",
              "      <td>0.000341</td>\n",
              "      <td>0.001105</td>\n",
              "      <td>0.556765</td>\n",
              "      <td>0.645596</td>\n",
              "      <td>0.528339</td>\n",
              "      <td>0.530746</td>\n",
              "      <td>0.453095</td>\n",
              "      <td>0.597366</td>\n",
              "    </tr>\n",
              "    <tr>\n",
              "      <th>3</th>\n",
              "      <td>Emo_Soundscapes</td>\n",
              "      <td>r_0human106568_7037-hq.wav</td>\n",
              "      <td>human</td>\n",
              "      <td>train</td>\n",
              "      <td>Yes</td>\n",
              "      <td>0.475680</td>\n",
              "      <td>0.193735</td>\n",
              "      <td>1</td>\n",
              "      <td>0.084644</td>\n",
              "      <td>0.116640</td>\n",
              "      <td>...</td>\n",
              "      <td>0.287735</td>\n",
              "      <td>0.350881</td>\n",
              "      <td>0.086838</td>\n",
              "      <td>0.116217</td>\n",
              "      <td>0.414766</td>\n",
              "      <td>0.312622</td>\n",
              "      <td>0.594527</td>\n",
              "      <td>0.407643</td>\n",
              "      <td>0.455381</td>\n",
              "      <td>0.611109</td>\n",
              "    </tr>\n",
              "    <tr>\n",
              "      <th>4</th>\n",
              "      <td>Emo_Soundscapes</td>\n",
              "      <td>r_0human113598_1015240-hq.wav</td>\n",
              "      <td>human</td>\n",
              "      <td>train</td>\n",
              "      <td>Yes</td>\n",
              "      <td>0.901072</td>\n",
              "      <td>0.429514</td>\n",
              "      <td>1</td>\n",
              "      <td>0.140388</td>\n",
              "      <td>0.084062</td>\n",
              "      <td>...</td>\n",
              "      <td>0.265019</td>\n",
              "      <td>0.218352</td>\n",
              "      <td>0.129461</td>\n",
              "      <td>0.063828</td>\n",
              "      <td>0.239722</td>\n",
              "      <td>0.137558</td>\n",
              "      <td>0.744121</td>\n",
              "      <td>0.483581</td>\n",
              "      <td>0.301274</td>\n",
              "      <td>0.708152</td>\n",
              "    </tr>\n",
              "  </tbody>\n",
              "</table>\n",
              "<p>5 rows × 76 columns</p>\n",
              "</div>\n",
              "      <button class=\"colab-df-convert\" onclick=\"convertToInteractive('df-9c365e37-4e52-44bb-a48c-0737328da4de')\"\n",
              "              title=\"Convert this dataframe to an interactive table.\"\n",
              "              style=\"display:none;\">\n",
              "        \n",
              "  <svg xmlns=\"http://www.w3.org/2000/svg\" height=\"24px\"viewBox=\"0 0 24 24\"\n",
              "       width=\"24px\">\n",
              "    <path d=\"M0 0h24v24H0V0z\" fill=\"none\"/>\n",
              "    <path d=\"M18.56 5.44l.94 2.06.94-2.06 2.06-.94-2.06-.94-.94-2.06-.94 2.06-2.06.94zm-11 1L8.5 8.5l.94-2.06 2.06-.94-2.06-.94L8.5 2.5l-.94 2.06-2.06.94zm10 10l.94 2.06.94-2.06 2.06-.94-2.06-.94-.94-2.06-.94 2.06-2.06.94z\"/><path d=\"M17.41 7.96l-1.37-1.37c-.4-.4-.92-.59-1.43-.59-.52 0-1.04.2-1.43.59L10.3 9.45l-7.72 7.72c-.78.78-.78 2.05 0 2.83L4 21.41c.39.39.9.59 1.41.59.51 0 1.02-.2 1.41-.59l7.78-7.78 2.81-2.81c.8-.78.8-2.07 0-2.86zM5.41 20L4 18.59l7.72-7.72 1.47 1.35L5.41 20z\"/>\n",
              "  </svg>\n",
              "      </button>\n",
              "      \n",
              "  <style>\n",
              "    .colab-df-container {\n",
              "      display:flex;\n",
              "      flex-wrap:wrap;\n",
              "      gap: 12px;\n",
              "    }\n",
              "\n",
              "    .colab-df-convert {\n",
              "      background-color: #E8F0FE;\n",
              "      border: none;\n",
              "      border-radius: 50%;\n",
              "      cursor: pointer;\n",
              "      display: none;\n",
              "      fill: #1967D2;\n",
              "      height: 32px;\n",
              "      padding: 0 0 0 0;\n",
              "      width: 32px;\n",
              "    }\n",
              "\n",
              "    .colab-df-convert:hover {\n",
              "      background-color: #E2EBFA;\n",
              "      box-shadow: 0px 1px 2px rgba(60, 64, 67, 0.3), 0px 1px 3px 1px rgba(60, 64, 67, 0.15);\n",
              "      fill: #174EA6;\n",
              "    }\n",
              "\n",
              "    [theme=dark] .colab-df-convert {\n",
              "      background-color: #3B4455;\n",
              "      fill: #D2E3FC;\n",
              "    }\n",
              "\n",
              "    [theme=dark] .colab-df-convert:hover {\n",
              "      background-color: #434B5C;\n",
              "      box-shadow: 0px 1px 3px 1px rgba(0, 0, 0, 0.15);\n",
              "      filter: drop-shadow(0px 1px 2px rgba(0, 0, 0, 0.3));\n",
              "      fill: #FFFFFF;\n",
              "    }\n",
              "  </style>\n",
              "\n",
              "      <script>\n",
              "        const buttonEl =\n",
              "          document.querySelector('#df-9c365e37-4e52-44bb-a48c-0737328da4de button.colab-df-convert');\n",
              "        buttonEl.style.display =\n",
              "          google.colab.kernel.accessAllowed ? 'block' : 'none';\n",
              "\n",
              "        async function convertToInteractive(key) {\n",
              "          const element = document.querySelector('#df-9c365e37-4e52-44bb-a48c-0737328da4de');\n",
              "          const dataTable =\n",
              "            await google.colab.kernel.invokeFunction('convertToInteractive',\n",
              "                                                     [key], {});\n",
              "          if (!dataTable) return;\n",
              "\n",
              "          const docLinkHtml = 'Like what you see? Visit the ' +\n",
              "            '<a target=\"_blank\" href=https://colab.research.google.com/notebooks/data_table.ipynb>data table notebook</a>'\n",
              "            + ' to learn more about interactive tables.';\n",
              "          element.innerHTML = '';\n",
              "          dataTable['output_type'] = 'display_data';\n",
              "          await google.colab.output.renderOutput(dataTable, element);\n",
              "          const docLink = document.createElement('div');\n",
              "          docLink.innerHTML = docLinkHtml;\n",
              "          element.appendChild(docLink);\n",
              "        }\n",
              "      </script>\n",
              "    </div>\n",
              "  </div>\n",
              "  "
            ]
          },
          "metadata": {},
          "execution_count": 15
        }
      ],
      "source": [
        "# Min Max Normalization\n",
        "num_cols = list(emo_new.select_dtypes(include=[np.number]).columns.values)\n",
        "num_cols.remove('arousal')\n",
        "num_cols.remove('valence')\n",
        "normalized_emo_sound_min_max = emo_new.copy()\n",
        "\n",
        "normalized_emo_sound_min_max[num_cols] = (emo_new[num_cols]-emo_new[num_cols].min())/(emo_new[num_cols].max() - emo_new[num_cols].min())\n",
        "\n",
        "# Change to a shorter name\n",
        "emo = normalized_emo_sound_min_max\n",
        "emo.head()"
      ]
    },
    {
      "cell_type": "markdown",
      "source": [
        "<a name='Train'></a>\n",
        "\n",
        "### 1.2 EmoSounds Dataset Training\n"
      ],
      "metadata": {
        "id": "EFUGh7kMaGHK"
      }
    },
    {
      "cell_type": "code",
      "source": [
        "#Shuffling the dataset\n",
        "from sklearn.utils import shuffle\n",
        "from sklearn.model_selection import train_test_split\n",
        "\n",
        "emo_shuffle = shuffle(emo)\n",
        "\n",
        "X_emo = emo_shuffle.iloc[:,8:]\n",
        "y_emo = emo_shuffle.iloc[:,7]\n",
        "\n",
        "# Splitting the data into train and test sets after shuffling\n",
        "# 80% 20% split\n",
        "X_emo_train, X_emo_test, y_emo_train, y_emo_test,  = train_test_split(X_emo, y_emo, test_size=0.2, random_state=0)"
      ],
      "metadata": {
        "id": "aS0i9bEDaPQ8"
      },
      "execution_count": null,
      "outputs": []
    },
    {
      "cell_type": "code",
      "source": [
        "from sklearn.model_selection import KFold\n",
        "from sklearn.metrics import classification_report\n",
        "\n",
        "def cross_validate(num_splits, X, Y, model):\n",
        "\n",
        "  kf = KFold(n_splits=num_splits, shuffle= True, random_state=0)\n",
        "  score_list = []\n",
        "\n",
        "  for train_idx, test_idx in kf.split(X, Y):\n",
        "    x_train = X.iloc[train_idx]\n",
        "    y_train = Y.iloc[train_idx]\n",
        "\n",
        "    x_test = X.iloc[test_idx]\n",
        "    y_test = Y.iloc[test_idx]\n",
        "\n",
        "    model.fit(x_train, y_train) #Training the model\n",
        "    \n",
        "    #Making Predictions\n",
        "    y_pred = model.predict(x_test)\n",
        "\n",
        "    #f1-score\n",
        "    report = classification_report(y_test, y_pred, output_dict=True)\n",
        "    score_list.append(report['macro avg']['f1-score'])\n",
        "    \n",
        "  return score_list"
      ],
      "metadata": {
        "id": "H1zNWH2Dj5N7"
      },
      "execution_count": null,
      "outputs": []
    },
    {
      "cell_type": "markdown",
      "source": [
        "<a name='Logistic regression'></a>\n",
        "\n",
        "#### 1.2.1 Logistic Regression"
      ],
      "metadata": {
        "id": "rckmXOW4a1rg"
      }
    },
    {
      "cell_type": "code",
      "source": [
        "#Logistic Regression with Linear Features\n",
        "\n",
        "from sklearn.linear_model import LogisticRegression\n",
        "\n",
        "# Fitting Logistic Regression to training set\n",
        "logM_emo = LogisticRegression(penalty='none', solver='saga', random_state=0)\n",
        "logM_emo.fit(X_emo_train, y_emo_train)\n",
        "\n",
        "# Making predictions\n",
        "y_emo_train_pred = logM_emo.predict(X_emo_train) #Training set\n",
        "y_emo_test_pred = logM_emo.predict(X_emo_test) #Test set"
      ],
      "metadata": {
        "id": "w_uyJAxPfDD7"
      },
      "execution_count": null,
      "outputs": []
    },
    {
      "cell_type": "code",
      "source": [
        "# Calculating F1-scores\n",
        "from sklearn.metrics import classification_report\n",
        "from sklearn.metrics import confusion_matrix, ConfusionMatrixDisplay\n",
        "\n",
        "#Training Report\n",
        "log_report_train_emo = classification_report(y_emo_train, y_emo_train_pred)\n",
        "print(\"Training Classification Report: Logistic Regression for Emo-soundscape dataset:\\n\",log_report_train_emo)\n",
        "\n",
        "#Getting confusion matrix for Training Data\n",
        "cm_emo_logM_train = confusion_matrix(y_emo_train, y_emo_train_pred, labels=logM_emo.classes_)\n",
        "\n",
        "disp_train = ConfusionMatrixDisplay(confusion_matrix=cm_emo_logM_train, display_labels=logM_emo.classes_)\n",
        "disp_train.plot()\n",
        "\n",
        "#Testing Report\n",
        "log_report_test_emo = classification_report(y_emo_test, y_emo_test_pred)\n",
        "print(\"Testing Classification Report: Logistic Regression for Emo-soundscape dataset:\\n\",log_report_test_emo)\n",
        "\n",
        "#Getting confusion matrix for Testing Data\n",
        "cm_emo_logM_test = confusion_matrix(y_emo_test, y_emo_test_pred, labels=logM_emo.classes_)\n",
        "\n",
        "disp_test = ConfusionMatrixDisplay(confusion_matrix=cm_emo_logM_test, display_labels=logM_emo.classes_)\n",
        "disp_test.plot()"
      ],
      "metadata": {
        "colab": {
          "base_uri": "https://localhost:8080/",
          "height": 867
        },
        "id": "js-lOTySKPQ6",
        "outputId": "395c109c-6735-485b-8516-3a3ea56c4d24"
      },
      "execution_count": null,
      "outputs": [
        {
          "output_type": "stream",
          "name": "stdout",
          "text": [
            "Training Classification Report: Logistic Regression for Emo-soundscape dataset:\n",
            "               precision    recall  f1-score   support\n",
            "\n",
            "           1       0.65      0.46      0.54        48\n",
            "           2       0.82      0.91      0.86       185\n",
            "           3       0.63      0.51      0.57        80\n",
            "           4       0.80      0.84      0.82       167\n",
            "\n",
            "    accuracy                           0.77       480\n",
            "   macro avg       0.72      0.68      0.69       480\n",
            "weighted avg       0.76      0.77      0.76       480\n",
            "\n",
            "Testing Classification Report: Logistic Regression for Emo-soundscape dataset:\n",
            "               precision    recall  f1-score   support\n",
            "\n",
            "           1       0.22      0.14      0.17        14\n",
            "           2       0.78      0.83      0.80        47\n",
            "           3       0.47      0.43      0.45        21\n",
            "           4       0.69      0.76      0.72        38\n",
            "\n",
            "    accuracy                           0.66       120\n",
            "   macro avg       0.54      0.54      0.54       120\n",
            "weighted avg       0.63      0.66      0.64       120\n",
            "\n"
          ]
        },
        {
          "output_type": "execute_result",
          "data": {
            "text/plain": [
              "<sklearn.metrics._plot.confusion_matrix.ConfusionMatrixDisplay at 0x7f7efef5bcd0>"
            ]
          },
          "metadata": {},
          "execution_count": 19
        },
        {
          "output_type": "stream",
          "name": "stdout",
          "text": [
            "Error in callback <function flush_figures at 0x7f7f1ba0edd0> (for post_execute):\n"
          ]
        },
        {
          "output_type": "error",
          "ename": "KeyboardInterrupt",
          "evalue": "ignored",
          "traceback": [
            "\u001b[0;31m---------------------------------------------------------------------------\u001b[0m",
            "\u001b[0;31mKeyboardInterrupt\u001b[0m                         Traceback (most recent call last)",
            "\u001b[0;32m/usr/local/lib/python3.7/dist-packages/ipykernel/pylab/backend_inline.py\u001b[0m in \u001b[0;36mflush_figures\u001b[0;34m()\u001b[0m\n\u001b[1;32m    119\u001b[0m         \u001b[0;31m# ignore the tracking, just draw and close all figures\u001b[0m\u001b[0;34m\u001b[0m\u001b[0;34m\u001b[0m\u001b[0;34m\u001b[0m\u001b[0m\n\u001b[1;32m    120\u001b[0m         \u001b[0;32mtry\u001b[0m\u001b[0;34m:\u001b[0m\u001b[0;34m\u001b[0m\u001b[0;34m\u001b[0m\u001b[0m\n\u001b[0;32m--> 121\u001b[0;31m             \u001b[0;32mreturn\u001b[0m \u001b[0mshow\u001b[0m\u001b[0;34m(\u001b[0m\u001b[0;32mTrue\u001b[0m\u001b[0;34m)\u001b[0m\u001b[0;34m\u001b[0m\u001b[0;34m\u001b[0m\u001b[0m\n\u001b[0m\u001b[1;32m    122\u001b[0m         \u001b[0;32mexcept\u001b[0m \u001b[0mException\u001b[0m \u001b[0;32mas\u001b[0m \u001b[0me\u001b[0m\u001b[0;34m:\u001b[0m\u001b[0;34m\u001b[0m\u001b[0;34m\u001b[0m\u001b[0m\n\u001b[1;32m    123\u001b[0m             \u001b[0;31m# safely show traceback if in IPython, else raise\u001b[0m\u001b[0;34m\u001b[0m\u001b[0;34m\u001b[0m\u001b[0;34m\u001b[0m\u001b[0m\n",
            "\u001b[0;32m/usr/local/lib/python3.7/dist-packages/ipykernel/pylab/backend_inline.py\u001b[0m in \u001b[0;36mshow\u001b[0;34m(close, block)\u001b[0m\n\u001b[1;32m     41\u001b[0m             display(\n\u001b[1;32m     42\u001b[0m                 \u001b[0mfigure_manager\u001b[0m\u001b[0;34m.\u001b[0m\u001b[0mcanvas\u001b[0m\u001b[0;34m.\u001b[0m\u001b[0mfigure\u001b[0m\u001b[0;34m,\u001b[0m\u001b[0;34m\u001b[0m\u001b[0;34m\u001b[0m\u001b[0m\n\u001b[0;32m---> 43\u001b[0;31m                 \u001b[0mmetadata\u001b[0m\u001b[0;34m=\u001b[0m\u001b[0m_fetch_figure_metadata\u001b[0m\u001b[0;34m(\u001b[0m\u001b[0mfigure_manager\u001b[0m\u001b[0;34m.\u001b[0m\u001b[0mcanvas\u001b[0m\u001b[0;34m.\u001b[0m\u001b[0mfigure\u001b[0m\u001b[0;34m)\u001b[0m\u001b[0;34m\u001b[0m\u001b[0;34m\u001b[0m\u001b[0m\n\u001b[0m\u001b[1;32m     44\u001b[0m             )\n\u001b[1;32m     45\u001b[0m     \u001b[0;32mfinally\u001b[0m\u001b[0;34m:\u001b[0m\u001b[0;34m\u001b[0m\u001b[0;34m\u001b[0m\u001b[0m\n",
            "\u001b[0;32m/usr/local/lib/python3.7/dist-packages/IPython/core/display.py\u001b[0m in \u001b[0;36mdisplay\u001b[0;34m(include, exclude, metadata, transient, display_id, *objs, **kwargs)\u001b[0m\n\u001b[1;32m    311\u001b[0m             \u001b[0mpublish_display_data\u001b[0m\u001b[0;34m(\u001b[0m\u001b[0mdata\u001b[0m\u001b[0;34m=\u001b[0m\u001b[0mobj\u001b[0m\u001b[0;34m,\u001b[0m \u001b[0mmetadata\u001b[0m\u001b[0;34m=\u001b[0m\u001b[0mmetadata\u001b[0m\u001b[0;34m,\u001b[0m \u001b[0;34m**\u001b[0m\u001b[0mkwargs\u001b[0m\u001b[0;34m)\u001b[0m\u001b[0;34m\u001b[0m\u001b[0;34m\u001b[0m\u001b[0m\n\u001b[1;32m    312\u001b[0m         \u001b[0;32melse\u001b[0m\u001b[0;34m:\u001b[0m\u001b[0;34m\u001b[0m\u001b[0;34m\u001b[0m\u001b[0m\n\u001b[0;32m--> 313\u001b[0;31m             \u001b[0mformat_dict\u001b[0m\u001b[0;34m,\u001b[0m \u001b[0mmd_dict\u001b[0m \u001b[0;34m=\u001b[0m \u001b[0mformat\u001b[0m\u001b[0;34m(\u001b[0m\u001b[0mobj\u001b[0m\u001b[0;34m,\u001b[0m \u001b[0minclude\u001b[0m\u001b[0;34m=\u001b[0m\u001b[0minclude\u001b[0m\u001b[0;34m,\u001b[0m \u001b[0mexclude\u001b[0m\u001b[0;34m=\u001b[0m\u001b[0mexclude\u001b[0m\u001b[0;34m)\u001b[0m\u001b[0;34m\u001b[0m\u001b[0;34m\u001b[0m\u001b[0m\n\u001b[0m\u001b[1;32m    314\u001b[0m             \u001b[0;32mif\u001b[0m \u001b[0;32mnot\u001b[0m \u001b[0mformat_dict\u001b[0m\u001b[0;34m:\u001b[0m\u001b[0;34m\u001b[0m\u001b[0;34m\u001b[0m\u001b[0m\n\u001b[1;32m    315\u001b[0m                 \u001b[0;31m# nothing to display (e.g. _ipython_display_ took over)\u001b[0m\u001b[0;34m\u001b[0m\u001b[0;34m\u001b[0m\u001b[0;34m\u001b[0m\u001b[0m\n",
            "\u001b[0;32m/usr/local/lib/python3.7/dist-packages/IPython/core/formatters.py\u001b[0m in \u001b[0;36mformat\u001b[0;34m(self, obj, include, exclude)\u001b[0m\n\u001b[1;32m    178\u001b[0m             \u001b[0mmd\u001b[0m \u001b[0;34m=\u001b[0m \u001b[0;32mNone\u001b[0m\u001b[0;34m\u001b[0m\u001b[0;34m\u001b[0m\u001b[0m\n\u001b[1;32m    179\u001b[0m             \u001b[0;32mtry\u001b[0m\u001b[0;34m:\u001b[0m\u001b[0;34m\u001b[0m\u001b[0;34m\u001b[0m\u001b[0m\n\u001b[0;32m--> 180\u001b[0;31m                 \u001b[0mdata\u001b[0m \u001b[0;34m=\u001b[0m \u001b[0mformatter\u001b[0m\u001b[0;34m(\u001b[0m\u001b[0mobj\u001b[0m\u001b[0;34m)\u001b[0m\u001b[0;34m\u001b[0m\u001b[0;34m\u001b[0m\u001b[0m\n\u001b[0m\u001b[1;32m    181\u001b[0m             \u001b[0;32mexcept\u001b[0m\u001b[0;34m:\u001b[0m\u001b[0;34m\u001b[0m\u001b[0;34m\u001b[0m\u001b[0m\n\u001b[1;32m    182\u001b[0m                 \u001b[0;31m# FIXME: log the exception\u001b[0m\u001b[0;34m\u001b[0m\u001b[0;34m\u001b[0m\u001b[0;34m\u001b[0m\u001b[0m\n",
            "\u001b[0;32m<decorator-gen-2>\u001b[0m in \u001b[0;36m__call__\u001b[0;34m(self, obj)\u001b[0m\n",
            "\u001b[0;32m/usr/local/lib/python3.7/dist-packages/IPython/core/formatters.py\u001b[0m in \u001b[0;36mcatch_format_error\u001b[0;34m(method, self, *args, **kwargs)\u001b[0m\n\u001b[1;32m    222\u001b[0m     \u001b[0;34m\"\"\"show traceback on failed format call\"\"\"\u001b[0m\u001b[0;34m\u001b[0m\u001b[0;34m\u001b[0m\u001b[0m\n\u001b[1;32m    223\u001b[0m     \u001b[0;32mtry\u001b[0m\u001b[0;34m:\u001b[0m\u001b[0;34m\u001b[0m\u001b[0;34m\u001b[0m\u001b[0m\n\u001b[0;32m--> 224\u001b[0;31m         \u001b[0mr\u001b[0m \u001b[0;34m=\u001b[0m \u001b[0mmethod\u001b[0m\u001b[0;34m(\u001b[0m\u001b[0mself\u001b[0m\u001b[0;34m,\u001b[0m \u001b[0;34m*\u001b[0m\u001b[0margs\u001b[0m\u001b[0;34m,\u001b[0m \u001b[0;34m**\u001b[0m\u001b[0mkwargs\u001b[0m\u001b[0;34m)\u001b[0m\u001b[0;34m\u001b[0m\u001b[0;34m\u001b[0m\u001b[0m\n\u001b[0m\u001b[1;32m    225\u001b[0m     \u001b[0;32mexcept\u001b[0m \u001b[0mNotImplementedError\u001b[0m\u001b[0;34m:\u001b[0m\u001b[0;34m\u001b[0m\u001b[0;34m\u001b[0m\u001b[0m\n\u001b[1;32m    226\u001b[0m         \u001b[0;31m# don't warn on NotImplementedErrors\u001b[0m\u001b[0;34m\u001b[0m\u001b[0;34m\u001b[0m\u001b[0;34m\u001b[0m\u001b[0m\n",
            "\u001b[0;32m/usr/local/lib/python3.7/dist-packages/IPython/core/formatters.py\u001b[0m in \u001b[0;36m__call__\u001b[0;34m(self, obj)\u001b[0m\n\u001b[1;32m    339\u001b[0m                 \u001b[0;32mpass\u001b[0m\u001b[0;34m\u001b[0m\u001b[0;34m\u001b[0m\u001b[0m\n\u001b[1;32m    340\u001b[0m             \u001b[0;32melse\u001b[0m\u001b[0;34m:\u001b[0m\u001b[0;34m\u001b[0m\u001b[0;34m\u001b[0m\u001b[0m\n\u001b[0;32m--> 341\u001b[0;31m                 \u001b[0;32mreturn\u001b[0m \u001b[0mprinter\u001b[0m\u001b[0;34m(\u001b[0m\u001b[0mobj\u001b[0m\u001b[0;34m)\u001b[0m\u001b[0;34m\u001b[0m\u001b[0;34m\u001b[0m\u001b[0m\n\u001b[0m\u001b[1;32m    342\u001b[0m             \u001b[0;31m# Finally look for special method names\u001b[0m\u001b[0;34m\u001b[0m\u001b[0;34m\u001b[0m\u001b[0;34m\u001b[0m\u001b[0m\n\u001b[1;32m    343\u001b[0m             \u001b[0mmethod\u001b[0m \u001b[0;34m=\u001b[0m \u001b[0mget_real_method\u001b[0m\u001b[0;34m(\u001b[0m\u001b[0mobj\u001b[0m\u001b[0;34m,\u001b[0m \u001b[0mself\u001b[0m\u001b[0;34m.\u001b[0m\u001b[0mprint_method\u001b[0m\u001b[0;34m)\u001b[0m\u001b[0;34m\u001b[0m\u001b[0;34m\u001b[0m\u001b[0m\n",
            "\u001b[0;32m/usr/local/lib/python3.7/dist-packages/IPython/core/pylabtools.py\u001b[0m in \u001b[0;36m<lambda>\u001b[0;34m(fig)\u001b[0m\n\u001b[1;32m    244\u001b[0m         \u001b[0mpng_formatter\u001b[0m\u001b[0;34m.\u001b[0m\u001b[0mfor_type\u001b[0m\u001b[0;34m(\u001b[0m\u001b[0mFigure\u001b[0m\u001b[0;34m,\u001b[0m \u001b[0;32mlambda\u001b[0m \u001b[0mfig\u001b[0m\u001b[0;34m:\u001b[0m \u001b[0mprint_figure\u001b[0m\u001b[0;34m(\u001b[0m\u001b[0mfig\u001b[0m\u001b[0;34m,\u001b[0m \u001b[0;34m'png'\u001b[0m\u001b[0;34m,\u001b[0m \u001b[0;34m**\u001b[0m\u001b[0mkwargs\u001b[0m\u001b[0;34m)\u001b[0m\u001b[0;34m)\u001b[0m\u001b[0;34m\u001b[0m\u001b[0;34m\u001b[0m\u001b[0m\n\u001b[1;32m    245\u001b[0m     \u001b[0;32mif\u001b[0m \u001b[0;34m'retina'\u001b[0m \u001b[0;32min\u001b[0m \u001b[0mformats\u001b[0m \u001b[0;32mor\u001b[0m \u001b[0;34m'png2x'\u001b[0m \u001b[0;32min\u001b[0m \u001b[0mformats\u001b[0m\u001b[0;34m:\u001b[0m\u001b[0;34m\u001b[0m\u001b[0;34m\u001b[0m\u001b[0m\n\u001b[0;32m--> 246\u001b[0;31m         \u001b[0mpng_formatter\u001b[0m\u001b[0;34m.\u001b[0m\u001b[0mfor_type\u001b[0m\u001b[0;34m(\u001b[0m\u001b[0mFigure\u001b[0m\u001b[0;34m,\u001b[0m \u001b[0;32mlambda\u001b[0m \u001b[0mfig\u001b[0m\u001b[0;34m:\u001b[0m \u001b[0mretina_figure\u001b[0m\u001b[0;34m(\u001b[0m\u001b[0mfig\u001b[0m\u001b[0;34m,\u001b[0m \u001b[0;34m**\u001b[0m\u001b[0mkwargs\u001b[0m\u001b[0;34m)\u001b[0m\u001b[0;34m)\u001b[0m\u001b[0;34m\u001b[0m\u001b[0;34m\u001b[0m\u001b[0m\n\u001b[0m\u001b[1;32m    247\u001b[0m     \u001b[0;32mif\u001b[0m \u001b[0;34m'jpg'\u001b[0m \u001b[0;32min\u001b[0m \u001b[0mformats\u001b[0m \u001b[0;32mor\u001b[0m \u001b[0;34m'jpeg'\u001b[0m \u001b[0;32min\u001b[0m \u001b[0mformats\u001b[0m\u001b[0;34m:\u001b[0m\u001b[0;34m\u001b[0m\u001b[0;34m\u001b[0m\u001b[0m\n\u001b[1;32m    248\u001b[0m         \u001b[0mjpg_formatter\u001b[0m\u001b[0;34m.\u001b[0m\u001b[0mfor_type\u001b[0m\u001b[0;34m(\u001b[0m\u001b[0mFigure\u001b[0m\u001b[0;34m,\u001b[0m \u001b[0;32mlambda\u001b[0m \u001b[0mfig\u001b[0m\u001b[0;34m:\u001b[0m \u001b[0mprint_figure\u001b[0m\u001b[0;34m(\u001b[0m\u001b[0mfig\u001b[0m\u001b[0;34m,\u001b[0m \u001b[0;34m'jpg'\u001b[0m\u001b[0;34m,\u001b[0m \u001b[0;34m**\u001b[0m\u001b[0mkwargs\u001b[0m\u001b[0;34m)\u001b[0m\u001b[0;34m)\u001b[0m\u001b[0;34m\u001b[0m\u001b[0;34m\u001b[0m\u001b[0m\n",
            "\u001b[0;32m/usr/local/lib/python3.7/dist-packages/IPython/core/pylabtools.py\u001b[0m in \u001b[0;36mretina_figure\u001b[0;34m(fig, **kwargs)\u001b[0m\n\u001b[1;32m    134\u001b[0m \u001b[0;32mdef\u001b[0m \u001b[0mretina_figure\u001b[0m\u001b[0;34m(\u001b[0m\u001b[0mfig\u001b[0m\u001b[0;34m,\u001b[0m \u001b[0;34m**\u001b[0m\u001b[0mkwargs\u001b[0m\u001b[0;34m)\u001b[0m\u001b[0;34m:\u001b[0m\u001b[0;34m\u001b[0m\u001b[0;34m\u001b[0m\u001b[0m\n\u001b[1;32m    135\u001b[0m     \u001b[0;34m\"\"\"format a figure as a pixel-doubled (retina) PNG\"\"\"\u001b[0m\u001b[0;34m\u001b[0m\u001b[0;34m\u001b[0m\u001b[0m\n\u001b[0;32m--> 136\u001b[0;31m     \u001b[0mpngdata\u001b[0m \u001b[0;34m=\u001b[0m \u001b[0mprint_figure\u001b[0m\u001b[0;34m(\u001b[0m\u001b[0mfig\u001b[0m\u001b[0;34m,\u001b[0m \u001b[0mfmt\u001b[0m\u001b[0;34m=\u001b[0m\u001b[0;34m'retina'\u001b[0m\u001b[0;34m,\u001b[0m \u001b[0;34m**\u001b[0m\u001b[0mkwargs\u001b[0m\u001b[0;34m)\u001b[0m\u001b[0;34m\u001b[0m\u001b[0;34m\u001b[0m\u001b[0m\n\u001b[0m\u001b[1;32m    137\u001b[0m     \u001b[0;31m# Make sure that retina_figure acts just like print_figure and returns\u001b[0m\u001b[0;34m\u001b[0m\u001b[0;34m\u001b[0m\u001b[0;34m\u001b[0m\u001b[0m\n\u001b[1;32m    138\u001b[0m     \u001b[0;31m# None when the figure is empty.\u001b[0m\u001b[0;34m\u001b[0m\u001b[0;34m\u001b[0m\u001b[0;34m\u001b[0m\u001b[0m\n",
            "\u001b[0;32m/usr/local/lib/python3.7/dist-packages/IPython/core/pylabtools.py\u001b[0m in \u001b[0;36mprint_figure\u001b[0;34m(fig, fmt, bbox_inches, **kwargs)\u001b[0m\n\u001b[1;32m    126\u001b[0m \u001b[0;34m\u001b[0m\u001b[0m\n\u001b[1;32m    127\u001b[0m     \u001b[0mbytes_io\u001b[0m \u001b[0;34m=\u001b[0m \u001b[0mBytesIO\u001b[0m\u001b[0;34m(\u001b[0m\u001b[0;34m)\u001b[0m\u001b[0;34m\u001b[0m\u001b[0;34m\u001b[0m\u001b[0m\n\u001b[0;32m--> 128\u001b[0;31m     \u001b[0mfig\u001b[0m\u001b[0;34m.\u001b[0m\u001b[0mcanvas\u001b[0m\u001b[0;34m.\u001b[0m\u001b[0mprint_figure\u001b[0m\u001b[0;34m(\u001b[0m\u001b[0mbytes_io\u001b[0m\u001b[0;34m,\u001b[0m \u001b[0;34m**\u001b[0m\u001b[0mkw\u001b[0m\u001b[0;34m)\u001b[0m\u001b[0;34m\u001b[0m\u001b[0;34m\u001b[0m\u001b[0m\n\u001b[0m\u001b[1;32m    129\u001b[0m     \u001b[0mdata\u001b[0m \u001b[0;34m=\u001b[0m \u001b[0mbytes_io\u001b[0m\u001b[0;34m.\u001b[0m\u001b[0mgetvalue\u001b[0m\u001b[0;34m(\u001b[0m\u001b[0;34m)\u001b[0m\u001b[0;34m\u001b[0m\u001b[0;34m\u001b[0m\u001b[0m\n\u001b[1;32m    130\u001b[0m     \u001b[0;32mif\u001b[0m \u001b[0mfmt\u001b[0m \u001b[0;34m==\u001b[0m \u001b[0;34m'svg'\u001b[0m\u001b[0;34m:\u001b[0m\u001b[0;34m\u001b[0m\u001b[0;34m\u001b[0m\u001b[0m\n",
            "\u001b[0;32m/usr/local/lib/python3.7/dist-packages/matplotlib/backend_bases.py\u001b[0m in \u001b[0;36mprint_figure\u001b[0;34m(self, filename, dpi, facecolor, edgecolor, orientation, format, bbox_inches, **kwargs)\u001b[0m\n\u001b[1;32m   2124\u001b[0m                     \u001b[0morientation\u001b[0m\u001b[0;34m=\u001b[0m\u001b[0morientation\u001b[0m\u001b[0;34m,\u001b[0m\u001b[0;34m\u001b[0m\u001b[0;34m\u001b[0m\u001b[0m\n\u001b[1;32m   2125\u001b[0m                     \u001b[0mbbox_inches_restore\u001b[0m\u001b[0;34m=\u001b[0m\u001b[0m_bbox_inches_restore\u001b[0m\u001b[0;34m,\u001b[0m\u001b[0;34m\u001b[0m\u001b[0;34m\u001b[0m\u001b[0m\n\u001b[0;32m-> 2126\u001b[0;31m                     **kwargs)\n\u001b[0m\u001b[1;32m   2127\u001b[0m             \u001b[0;32mfinally\u001b[0m\u001b[0;34m:\u001b[0m\u001b[0;34m\u001b[0m\u001b[0;34m\u001b[0m\u001b[0m\n\u001b[1;32m   2128\u001b[0m                 \u001b[0;32mif\u001b[0m \u001b[0mbbox_inches\u001b[0m \u001b[0;32mand\u001b[0m \u001b[0mrestore_bbox\u001b[0m\u001b[0;34m:\u001b[0m\u001b[0;34m\u001b[0m\u001b[0;34m\u001b[0m\u001b[0m\n",
            "\u001b[0;32m/usr/local/lib/python3.7/dist-packages/matplotlib/backends/backend_agg.py\u001b[0m in \u001b[0;36mprint_png\u001b[0;34m(self, filename_or_obj, metadata, pil_kwargs, *args, **kwargs)\u001b[0m\n\u001b[1;32m    535\u001b[0m             \u001b[0;32mwith\u001b[0m \u001b[0mcbook\u001b[0m\u001b[0;34m.\u001b[0m\u001b[0mopen_file_cm\u001b[0m\u001b[0;34m(\u001b[0m\u001b[0mfilename_or_obj\u001b[0m\u001b[0;34m,\u001b[0m \u001b[0;34m\"wb\"\u001b[0m\u001b[0;34m)\u001b[0m \u001b[0;32mas\u001b[0m \u001b[0mfh\u001b[0m\u001b[0;34m:\u001b[0m\u001b[0;34m\u001b[0m\u001b[0;34m\u001b[0m\u001b[0m\n\u001b[1;32m    536\u001b[0m                 _png.write_png(renderer._renderer, fh, self.figure.dpi,\n\u001b[0;32m--> 537\u001b[0;31m                                metadata={**default_metadata, **metadata})\n\u001b[0m\u001b[1;32m    538\u001b[0m \u001b[0;34m\u001b[0m\u001b[0m\n\u001b[1;32m    539\u001b[0m     \u001b[0;32mdef\u001b[0m \u001b[0mprint_to_buffer\u001b[0m\u001b[0;34m(\u001b[0m\u001b[0mself\u001b[0m\u001b[0;34m)\u001b[0m\u001b[0;34m:\u001b[0m\u001b[0;34m\u001b[0m\u001b[0;34m\u001b[0m\u001b[0m\n",
            "\u001b[0;31mKeyboardInterrupt\u001b[0m: "
          ]
        }
      ]
    },
    {
      "cell_type": "code",
      "source": [
        "# Cross validation to check overfiting/underfitting\n",
        "\n",
        "#Logistic Regression with Linear Features\n",
        "logM_emo_cv = LogisticRegression(penalty='none', solver='saga', random_state=0)\n",
        "f1_cv_emo = cross_validate(5, X_emo, y_emo, logM_emo_cv)\n",
        "print(\"Macro Average f1-score for each fold of Logistic Regression Model: \",f1_cv_emo)\n",
        "print(\"Average Score: \",np.mean(f1_cv_emo))"
      ],
      "metadata": {
        "colab": {
          "base_uri": "https://localhost:8080/"
        },
        "id": "GQxmaLjwj9F8",
        "outputId": "73e0413d-5bc4-4bf7-fcc7-8669ed843ae7"
      },
      "execution_count": null,
      "outputs": [
        {
          "output_type": "stream",
          "name": "stdout",
          "text": [
            "Macro Average f1-score for each fold of Logistic Regression Model:  [0.5382591887046168, 0.48789915966386554, 0.48730158730158735, 0.45683183183183185, 0.47824684003513196]\n",
            "Average Score:  0.48970772150740666\n"
          ]
        }
      ]
    },
    {
      "cell_type": "code",
      "source": [
        "#logistic Regression with Polynomial Features of degree 2 (Can be removed since degree 1 is giving better performance)\n",
        "\n",
        "from sklearn.model_selection import train_test_split\n",
        "from sklearn.linear_model import LogisticRegression\n",
        "\n",
        "from sklearn.preprocessing import PolynomialFeatures\n",
        "polyreg = PolynomialFeatures(degree=2)\n",
        "\n",
        "#Generating the polynomial feature\n",
        "X_poly = polyreg.fit_transform(X_emo_train)\n",
        "\n",
        "# Fitting Logistic Regression to training set\n",
        "logM_emo_poly = LogisticRegression(penalty='none', solver='saga', random_state=0)\n",
        "logM_emo_poly.fit(X_poly, y_emo_train)\n",
        "\n",
        "# Making predictions\n",
        "y_emo_train_pred_poly = logM_emo_poly.predict(X_poly) #Training set\n",
        "y_emo_test_pred_poly = logM_emo_poly.predict(polyreg.transform(X_emo_test)) #Test set\n"
      ],
      "metadata": {
        "id": "D3MSxH5nD8m4"
      },
      "execution_count": null,
      "outputs": []
    },
    {
      "cell_type": "code",
      "source": [
        "# Calculating F1-scores\n",
        "from sklearn.metrics import classification_report\n",
        "from sklearn.metrics import confusion_matrix, ConfusionMatrixDisplay\n",
        "\n",
        "#Training Report\n",
        "log_report_train_emo = classification_report(y_emo_train, y_emo_train_pred_poly)\n",
        "print(\"Training Classification Report: Logistic Regression for Emo-soundscape dataset:\\n\",log_report_train_emo)\n",
        "\n",
        "#Getting confusion matrix for Training Data\n",
        "cm_emo_logM_train_poly = confusion_matrix(y_emo_train, y_emo_train_pred_poly, labels=logM_emo_poly.classes_)\n",
        "\n",
        "disp_train_poly = ConfusionMatrixDisplay(confusion_matrix=cm_emo_logM_train_poly, display_labels=logM_emo_poly.classes_)\n",
        "disp_train_poly.plot()\n",
        "\n",
        "#Testing Report\n",
        "log_report_test_emo = classification_report(y_emo_test, y_emo_test_pred_poly)\n",
        "print(\"Testing Classification Report: Logistic Regression for Emo-soundscape dataset:\\n\",log_report_test_emo)\n",
        "\n",
        "#Getting confusion matrix for Testing Data\n",
        "cm_emo_logM_test_poly = confusion_matrix(y_emo_test, y_emo_test_pred_poly, labels=logM_emo_poly.classes_)\n",
        "\n",
        "disp_train_poly = ConfusionMatrixDisplay(confusion_matrix=cm_emo_logM_test_poly, display_labels=logM_emo_poly.classes_)\n",
        "disp_train_poly.plot()"
      ],
      "metadata": {
        "colab": {
          "base_uri": "https://localhost:8080/",
          "height": 993
        },
        "id": "BPKzOwh6KcZ4",
        "outputId": "c7726bc4-6ba6-4fa2-82b4-1982811efd36"
      },
      "execution_count": null,
      "outputs": [
        {
          "output_type": "stream",
          "name": "stdout",
          "text": [
            "Training Classification Report: Logistic Regression for Emo-soundscape dataset:\n",
            "               precision    recall  f1-score   support\n",
            "\n",
            "           1       0.85      0.58      0.69        48\n",
            "           2       0.90      0.97      0.93       185\n",
            "           3       0.89      0.71      0.79        80\n",
            "           4       0.87      0.95      0.91       167\n",
            "\n",
            "    accuracy                           0.88       480\n",
            "   macro avg       0.88      0.80      0.83       480\n",
            "weighted avg       0.88      0.88      0.88       480\n",
            "\n",
            "Testing Classification Report: Logistic Regression for Emo-soundscape dataset:\n",
            "               precision    recall  f1-score   support\n",
            "\n",
            "           1       0.20      0.14      0.17        14\n",
            "           2       0.79      0.79      0.79        47\n",
            "           3       0.43      0.43      0.43        21\n",
            "           4       0.69      0.76      0.72        38\n",
            "\n",
            "    accuracy                           0.64       120\n",
            "   macro avg       0.53      0.53      0.53       120\n",
            "weighted avg       0.63      0.64      0.63       120\n",
            "\n"
          ]
        },
        {
          "output_type": "execute_result",
          "data": {
            "text/plain": [
              "<sklearn.metrics._plot.confusion_matrix.ConfusionMatrixDisplay at 0x7f7f038a89d0>"
            ]
          },
          "metadata": {},
          "execution_count": 22
        },
        {
          "output_type": "display_data",
          "data": {
            "text/plain": [
              "<Figure size 432x288 with 2 Axes>"
            ],
            "image/png": "[encoded data removed]"
          },
          "metadata": {
            "image/png": {
              "width": 330,
              "height": 271
            },
            "needs_background": "light"
          }
        },
        {
          "output_type": "display_data",
          "data": {
            "text/plain": [
              "<Figure size 432x288 with 2 Axes>"
            ],
            "image/png": "[encoded data removed]"
          },
          "metadata": {
            "image/png": {
              "width": 320,
              "height": 271
            },
            "needs_background": "light"
          }
        }
      ]
    },
    {
      "cell_type": "code",
      "source": [
        "#Cross-Validation of Logistic Regression with Polynomial Features\n",
        "logM_emo_poly_cv = LogisticRegression(penalty='none', solver='saga', C=0.4, random_state=0)\n",
        "f1_cv_emo_poly = cross_validate(5, pd.DataFrame(polyreg.transform(X_emo)), y_emo, logM_emo_poly_cv)\n",
        "print(\"Macro Average f1-score for each fold of Logistic Regression Model: \",f1_cv_emo_poly)\n",
        "print(\"Average Score: \",np.mean(f1_cv_emo_poly))"
      ],
      "metadata": {
        "colab": {
          "base_uri": "https://localhost:8080/"
        },
        "id": "QFWwUXwMH9OJ",
        "outputId": "b9f1788e-dc05-445a-98ef-0cb7b03100c2"
      },
      "execution_count": null,
      "outputs": [
        {
          "output_type": "stream",
          "name": "stdout",
          "text": [
            "Macro Average f1-score for each fold of Logistic Regression Model:  [0.5326727642276422, 0.5740808069824916, 0.4836956521739131, 0.4742021315055023, 0.5473118279569893]\n",
            "Average Score:  0.5223926365693077\n"
          ]
        }
      ]
    },
    {
      "cell_type": "markdown",
      "source": [
        "<a name='RandomForestClassifier'></a>\n",
        "\n",
        "#### 1.2.2 RandomForestClassifier"
      ],
      "metadata": {
        "id": "_JL4oAMBpMMT"
      }
    },
    {
      "cell_type": "code",
      "source": [
        "from sklearn.ensemble import RandomForestClassifier\n",
        "\n",
        "# Splitting the dataset into Train, Validate and Test sets for tuning Random Forest into a 60, 20, 20 split (split the train set into 0.75 0.25 to achieve it)\n",
        "X_emo_train_rf, X_emo_val_rf, y_emo_train_rf, y_emo_val_rf,  = train_test_split(X_emo_train, y_emo_train, test_size=0.25, random_state=0)"
      ],
      "metadata": {
        "id": "u30U2sdQzdmH"
      },
      "execution_count": null,
      "outputs": []
    },
    {
      "cell_type": "code",
      "source": [
        "# Train model using training set\n",
        "#min_samples_leaf = 1 overfits the model\n",
        "\n",
        "rf_emo_validate = RandomForestClassifier(n_estimators=100, max_depth=10, min_samples_leaf=5, criterion='entropy', random_state=0)\n",
        "rf_emo_validate.fit(X_emo_train_rf, y_emo_train_rf)\n",
        "\n",
        "# Evaluation using validation set: Making predictions \n",
        "y_emo_val_pred_rf = rf_emo_validate.predict(X_emo_val_rf) #Validation set\n",
        "y_emo_train_pred_rf = rf_emo_validate.predict(X_emo_train_rf) #Training set"
      ],
      "metadata": {
        "id": "t0KIGb22wXtI"
      },
      "execution_count": null,
      "outputs": []
    },
    {
      "cell_type": "code",
      "source": [
        "# Calculating F1-scores\n",
        "\n",
        "#Training Report\n",
        "rf_report_train_emo = classification_report(y_emo_train_rf, y_emo_train_pred_rf)\n",
        "print(\"Training Classification Report: Logistic Regression for Emo-soundscape dataset:\\n\",rf_report_train_emo)\n",
        "\n",
        "#Getting confusion matrix for Training Data\n",
        "cm_emo_rf_train = confusion_matrix(y_emo_train_rf, y_emo_train_pred_rf, labels=rf_emo_validate.classes_)\n",
        "\n",
        "disp_train = ConfusionMatrixDisplay(confusion_matrix=cm_emo_rf_train, display_labels=rf_emo_validate.classes_)\n",
        "disp_train.plot()\n",
        "\n",
        "#Validation Report\n",
        "rf_report_validate_emo = classification_report(y_emo_val_rf, y_emo_val_pred_rf)\n",
        "print(\"Validation Classification Report: Logistic Regression for Emo-soundscape dataset:\\n\",rf_report_validate_emo)\n",
        "\n",
        "#Getting confusion matrix for Training Data\n",
        "cm_emo_rf_validation = confusion_matrix(y_emo_val_rf, y_emo_val_pred_rf, labels=rf_emo_validate.classes_)\n",
        "\n",
        "disp_train = ConfusionMatrixDisplay(confusion_matrix=cm_emo_rf_validation, display_labels=rf_emo_validate.classes_)\n",
        "disp_train.plot()"
      ],
      "metadata": {
        "colab": {
          "base_uri": "https://localhost:8080/",
          "height": 999
        },
        "id": "50ryfPkQPQdS",
        "outputId": "fdbecbc8-89cf-434f-9eae-f4e4c7fe1868"
      },
      "execution_count": null,
      "outputs": [
        {
          "output_type": "stream",
          "name": "stdout",
          "text": [
            "Training Classification Report: Logistic Regression for Emo-soundscape dataset:\n",
            "               precision    recall  f1-score   support\n",
            "\n",
            "           1       1.00      0.62      0.77        37\n",
            "           2       0.88      0.97      0.92       143\n",
            "           3       0.93      0.77      0.84        56\n",
            "           4       0.89      0.96      0.92       124\n",
            "\n",
            "    accuracy                           0.90       360\n",
            "   macro avg       0.93      0.83      0.86       360\n",
            "weighted avg       0.90      0.90      0.89       360\n",
            "\n",
            "Validation Classification Report: Logistic Regression for Emo-soundscape dataset:\n",
            "               precision    recall  f1-score   support\n",
            "\n",
            "           1       0.25      0.09      0.13        11\n",
            "           2       0.69      0.86      0.77        42\n",
            "           3       0.67      0.17      0.27        24\n",
            "           4       0.69      0.93      0.79        43\n",
            "\n",
            "    accuracy                           0.68       120\n",
            "   macro avg       0.57      0.51      0.49       120\n",
            "weighted avg       0.65      0.68      0.62       120\n",
            "\n"
          ]
        },
        {
          "output_type": "execute_result",
          "data": {
            "text/plain": [
              "<sklearn.metrics._plot.confusion_matrix.ConfusionMatrixDisplay at 0x7f7efe4d3c10>"
            ]
          },
          "metadata": {},
          "execution_count": 26
        },
        {
          "output_type": "display_data",
          "data": {
            "text/plain": [
              "<Figure size 432x288 with 2 Axes>"
            ],
            "image/png": "[encoded data removed]"
          },
          "metadata": {
            "image/png": {
              "width": 330,
              "height": 271
            },
            "needs_background": "light"
          }
        },
        {
          "output_type": "display_data",
          "data": {
            "text/plain": [
              "<Figure size 432x288 with 2 Axes>"
            ],
            "image/png": "[encoded data removed]"
          },
          "metadata": {
            "image/png": {
              "width": 320,
              "height": 277
            },
            "needs_background": "light"
          }
        }
      ]
    },
    {
      "cell_type": "code",
      "source": [
        "# Train model again using training and validation set\n",
        "rf_emo = RandomForestClassifier(n_estimators=100, max_depth=10, min_samples_leaf=5, criterion='entropy', random_state=0)\n",
        "rf_emo.fit(X_emo_train, y_emo_train)\n",
        "\n",
        "# Making predictions \n",
        "y_emo_train_pred_rf = rf_emo.predict(X_emo_train) #Training set\n",
        "y_emo_test_pred_rf = rf_emo.predict(X_emo_test) #Test set\n",
        "\n",
        "# Calculating F1-scores\n",
        "\n",
        "#Training Report\n",
        "rf_report_train_emo = classification_report(y_emo_train, y_emo_train_pred_rf)\n",
        "print(\"Training Classification Report: Random Forest Classification for Emo-soundscape dataset:\\n\",rf_report_train_emo)\n",
        "\n",
        "#Getting confusion matrix for Training Data\n",
        "cm_emo_rf_train = confusion_matrix(y_emo_train, y_emo_train_pred_rf, labels=rf_emo.classes_)\n",
        "\n",
        "disp_train = ConfusionMatrixDisplay(confusion_matrix=cm_emo_rf_train, display_labels=rf_emo.classes_)\n",
        "disp_train.plot()\n",
        "\n",
        "#Testing Report\n",
        "rf_report_test_emo = classification_report(y_emo_test, y_emo_test_pred_rf)\n",
        "print(\"Testing Classification Report: Logistic Regression for Emo-soundscape dataset:\\n\",rf_report_test_emo)\n",
        "\n",
        "#Getting confusion matrix for Testing Data\n",
        "cm_emo_rf_test = confusion_matrix(y_emo_test, y_emo_test_pred_rf, labels=rf_emo.classes_)\n",
        "\n",
        "disp_test = ConfusionMatrixDisplay(confusion_matrix=cm_emo_rf_test, display_labels=rf_emo.classes_)\n",
        "disp_test.plot()"
      ],
      "metadata": {
        "colab": {
          "base_uri": "https://localhost:8080/",
          "height": 993
        },
        "id": "QgAaHRPv1h7X",
        "outputId": "f83015ad-148d-4e99-ea8d-3b5534d54415"
      },
      "execution_count": null,
      "outputs": [
        {
          "output_type": "stream",
          "name": "stdout",
          "text": [
            "Training Classification Report: Random Forest Classification for Emo-soundscape dataset:\n",
            "               precision    recall  f1-score   support\n",
            "\n",
            "           1       1.00      0.71      0.83        48\n",
            "           2       0.92      0.99      0.95       185\n",
            "           3       0.95      0.75      0.84        80\n",
            "           4       0.89      0.98      0.93       167\n",
            "\n",
            "    accuracy                           0.92       480\n",
            "   macro avg       0.94      0.86      0.89       480\n",
            "weighted avg       0.92      0.92      0.91       480\n",
            "\n",
            "Testing Classification Report: Logistic Regression for Emo-soundscape dataset:\n",
            "               precision    recall  f1-score   support\n",
            "\n",
            "           1       1.00      0.07      0.13        14\n",
            "           2       0.67      0.96      0.79        47\n",
            "           3       0.43      0.14      0.21        21\n",
            "           4       0.69      0.82      0.75        38\n",
            "\n",
            "    accuracy                           0.67       120\n",
            "   macro avg       0.70      0.50      0.47       120\n",
            "weighted avg       0.67      0.67      0.60       120\n",
            "\n"
          ]
        },
        {
          "output_type": "execute_result",
          "data": {
            "text/plain": [
              "<sklearn.metrics._plot.confusion_matrix.ConfusionMatrixDisplay at 0x7f7efe342250>"
            ]
          },
          "metadata": {},
          "execution_count": 27
        },
        {
          "output_type": "display_data",
          "data": {
            "text/plain": [
              "<Figure size 432x288 with 2 Axes>"
            ],
            "image/png": "[encoded data removed]"
          },
          "metadata": {
            "image/png": {
              "width": 330,
              "height": 271
            },
            "needs_background": "light"
          }
        },
        {
          "output_type": "display_data",
          "data": {
            "text/plain": [
              "<Figure size 432x288 with 2 Axes>"
            ],
            "image/png": "[encoded data removed]"
          },
          "metadata": {
            "image/png": {
              "width": 320,
              "height": 271
            },
            "needs_background": "light"
          }
        }
      ]
    },
    {
      "cell_type": "code",
      "source": [
        "#Cross validation to check overfiting/underfitting\n",
        "f1_cv_emo_rf = cross_validate(5, X_emo, y_emo, rf_emo)\n",
        "print(\"Macro Average F1-score for each fold of Logistic Regression Model: \",f1_cv_emo_rf)\n",
        "print(\"Average f1-score: \",np.mean(f1_cv_emo_rf))"
      ],
      "metadata": {
        "colab": {
          "base_uri": "https://localhost:8080/"
        },
        "id": "9In_YhHex3t4",
        "outputId": "bcd71220-c5f7-4b61-e34f-91ec85e89009"
      },
      "execution_count": null,
      "outputs": [
        {
          "output_type": "stream",
          "name": "stdout",
          "text": [
            "Macro Average F1-score for each fold of Logistic Regression Model:  [0.44287357112292924, 0.5690128884280226, 0.484779404992171, 0.42171052631578954, 0.48632206542581896]\n",
            "Average f1-score:  0.48093969125694624\n"
          ]
        }
      ]
    },
    {
      "cell_type": "markdown",
      "source": [
        "<a name='Feature selection'></a>\n",
        "\n",
        "### 1.3 Feature selection\n"
      ],
      "metadata": {
        "id": "FvwzZDO33Hn1"
      }
    },
    {
      "cell_type": "markdown",
      "source": [
        "<a name='load_data'></a>\n",
        "\n",
        "#### 1.3.1 Filter method\n"
      ],
      "metadata": {
        "id": "NCGVPSIx3PN0"
      }
    },
    {
      "cell_type": "code",
      "source": [
        "# original X_emo_train shape\n",
        "X_emo_train.shape"
      ],
      "metadata": {
        "id": "ZRvXQ_Uu3ZZf",
        "colab": {
          "base_uri": "https://localhost:8080/"
        },
        "outputId": "e63a07da-9e8f-4a0c-cb13-2bbd9c4bb43a"
      },
      "execution_count": null,
      "outputs": [
        {
          "output_type": "execute_result",
          "data": {
            "text/plain": [
              "(480, 68)"
            ]
          },
          "metadata": {},
          "execution_count": 29
        }
      ]
    },
    {
      "cell_type": "code",
      "source": [
        "type(X_emo_train)"
      ],
      "metadata": {
        "colab": {
          "base_uri": "https://localhost:8080/"
        },
        "id": "7MI2aw0NBrUr",
        "outputId": "4b4288e8-70e4-4636-c035-9f51526feec0"
      },
      "execution_count": null,
      "outputs": [
        {
          "output_type": "execute_result",
          "data": {
            "text/plain": [
              "pandas.core.frame.DataFrame"
            ]
          },
          "metadata": {},
          "execution_count": 38
        }
      ]
    },
    {
      "cell_type": "code",
      "execution_count": null,
      "metadata": {
        "colab": {
          "base_uri": "https://localhost:8080/"
        },
        "id": "SixriuoFScIa",
        "outputId": "6ac4827b-f107-4cad-a94f-b718f314b794"
      },
      "outputs": [
        {
          "output_type": "stream",
          "name": "stdout",
          "text": [
            "0\n",
            "No constant features were found.\n"
          ]
        }
      ],
      "source": [
        "# Removing Constant features using VarianceThreshold\n",
        "\n",
        "from sklearn.feature_selection import VarianceThreshold\n",
        "\n",
        "constant_filter = VarianceThreshold(threshold=0)\n",
        "\n",
        "#Fit and transforming on train data\n",
        "data_constant = constant_filter.fit_transform(X_emo_train)\n",
        "\n",
        "#Extracting all constant columns using get support function of our filter\n",
        "constant_columns = [column for column in X_emo_train.columns\n",
        "                   if column not in X_emo_train.columns[constant_filter.get_support()]]\n",
        "\n",
        "#No. of constant columns\n",
        "print(len(constant_columns))\n",
        "print(\"No constant features were found.\")\n"
      ]
    },
    {
      "cell_type": "code",
      "execution_count": null,
      "metadata": {
        "colab": {
          "base_uri": "https://localhost:8080/"
        },
        "id": "X5bW4g0RWTmq",
        "outputId": "b14d31ab-9034-4f5b-f5db-1a6e6fab956e"
      },
      "outputs": [
        {
          "output_type": "stream",
          "name": "stdout",
          "text": [
            "13\n",
            "13 quasi-constant features were found.\n",
            "(480, 55)\n",
            "(120, 55)\n"
          ]
        }
      ],
      "source": [
        "# Removing Quasi-Constant Features\n",
        "\n",
        "qcons_filter = VarianceThreshold(threshold=0.01)\n",
        "\n",
        "#Fitand transforming on train data\n",
        "data_qcons = qcons_filter.fit_transform(X_emo_train)\n",
        "\n",
        "#Extracting all Quasi constant columns using get support function of our filter\n",
        "qcons_columns = [column for column in X_emo_train.columns\n",
        "                    if column not in X_emo_train.columns[qcons_filter.get_support()]]\n",
        "\n",
        "#No. of Quasi constant columns\n",
        "print(len(qcons_columns)) \n",
        "print(f'{len(qcons_columns)} quasi-constant features were found.')\n",
        "\n",
        "#Removing identified quasi-constant columns\n",
        "X_emo_train1 = X_emo_train.drop(qcons_columns,axis=1)\n",
        "X_emo_test1 = X_emo_test.drop(qcons_columns,axis=1)\n",
        "print(X_emo_train1.shape)\n",
        "print(X_emo_test1.shape)"
      ]
    },
    {
      "cell_type": "markdown",
      "source": [
        "<a name='Training with selected features'></a>\n",
        "\n",
        "##### 1.3.1.1  Logistic Regression"
      ],
      "metadata": {
        "id": "XOww5j4PcZZs"
      }
    },
    {
      "cell_type": "code",
      "source": [
        "#chi2 is used when both input and output are categorical, f_classif refers to ANOVA. \n",
        "#Reference - https://machinelearningmastery.com/feature-selection-with-real-and-categorical-data/\n",
        "\n",
        "from sklearn.feature_selection import SelectKBest\n",
        "from sklearn.feature_selection import f_classif\n",
        "\n",
        "# feature selection\n",
        "def select_features(X_train, y_train, X_test, num):\n",
        "\t# configure to select \"num\" features\n",
        "\tfs = SelectKBest(score_func=f_classif, k=num)\n",
        "\t# learn relationship from training data\n",
        "\tfs.fit(X_train, y_train)\n",
        "\t# transform train input data\n",
        "\tX_train_fs = fs.transform(X_train)\n",
        "\t# transform test input data\n",
        "\tX_test_fs = fs.transform(X_test)\n",
        "\treturn X_train_fs, X_test_fs, fs"
      ],
      "metadata": {
        "id": "b5VGr7Cdjhk7"
      },
      "execution_count": null,
      "outputs": []
    },
    {
      "cell_type": "code",
      "source": [
        "# Select K best features, change \"num\" to get the best results.\n",
        "X_emo_train_logM_filter, X_emo_test_logM_filter, fs_logM_filter = select_features(X_emo_train1, y_emo_train, X_emo_test1, 40)"
      ],
      "metadata": {
        "id": "HL9hm2pkj54m"
      },
      "execution_count": null,
      "outputs": []
    },
    {
      "cell_type": "code",
      "source": [
        "#Fitting Logistic Regression to training set\n",
        "logM_emo_filter = LogisticRegression(penalty='none', solver='saga', random_state=0)\n",
        "logM_emo_filter.fit(X_emo_train_logM_filter, y_emo_train)\n",
        "\n",
        "#Making predictions\n",
        "y_emo_train_pred_filter = logM_emo_filter.predict(X_emo_train_logM_filter) #Training set\n",
        "y_emo_test_pred_filter = logM_emo_filter.predict(X_emo_test_logM_filter) #Test set\n",
        "\n",
        "# Calculating F1-scores\n",
        "\n",
        "#Training Report\n",
        "logM_report_train_emo_filter = classification_report(y_emo_train, y_emo_train_pred_filter)\n",
        "print(\"Training Classification Report: Logistic Regression (After Feature Selection) for Emo-soundscape dataset:\\n\",logM_report_train_emo_filter)\n",
        "\n",
        "#Getting confusion matrix for Training Data\n",
        "cm_emo_logM_train_filter = confusion_matrix(y_emo_train, y_emo_train_pred_filter, labels=logM_emo_filter.classes_)\n",
        "\n",
        "disp_train = ConfusionMatrixDisplay(confusion_matrix=cm_emo_logM_train_filter, display_labels=logM_emo_filter.classes_)\n",
        "disp_train.plot()\n",
        "\n",
        "#Testing Report\n",
        "logM_report_test_emo_filter = classification_report(y_emo_test, y_emo_test_pred_filter)\n",
        "print(\"Testing Classification Report: Logistic Regression (After Feature Selection) for Emo-soundscape dataset:\\n\",logM_report_test_emo_filter)\n",
        "\n",
        "#Getting confusion matrix for Testing Data\n",
        "cm_emo_logM_test_filter = confusion_matrix(y_emo_test, y_emo_test_pred_filter, labels=logM_emo_filter.classes_)\n",
        "\n",
        "disp_test = ConfusionMatrixDisplay(confusion_matrix=cm_emo_logM_test_filter, display_labels=logM_emo_filter.classes_)\n",
        "disp_test.plot()"
      ],
      "metadata": {
        "colab": {
          "base_uri": "https://localhost:8080/",
          "height": 994
        },
        "id": "m2cB8P1wmgb4",
        "outputId": "823f3dc5-2626-4b32-9a57-48959bb430c2"
      },
      "execution_count": null,
      "outputs": [
        {
          "output_type": "stream",
          "name": "stdout",
          "text": [
            "Training Classification Report: Logistic Regression (After Feature Selection) for Emo-soundscape dataset:\n",
            "               precision    recall  f1-score   support\n",
            "\n",
            "           1       0.57      0.27      0.37        48\n",
            "           2       0.78      0.90      0.83       185\n",
            "           3       0.53      0.34      0.41        80\n",
            "           4       0.74      0.85      0.79       167\n",
            "\n",
            "    accuracy                           0.73       480\n",
            "   macro avg       0.65      0.59      0.60       480\n",
            "weighted avg       0.70      0.72      0.70       480\n",
            "\n",
            "Testing Classification Report: Logistic Regression (After Feature Selection) for Emo-soundscape dataset:\n",
            "               precision    recall  f1-score   support\n",
            "\n",
            "           1       0.55      0.43      0.48        14\n",
            "           2       0.84      0.87      0.85        47\n",
            "           3       0.42      0.38      0.40        21\n",
            "           4       0.68      0.74      0.71        38\n",
            "\n",
            "    accuracy                           0.69       120\n",
            "   macro avg       0.62      0.60      0.61       120\n",
            "weighted avg       0.68      0.69      0.69       120\n",
            "\n"
          ]
        },
        {
          "output_type": "execute_result",
          "data": {
            "text/plain": [
              "<sklearn.metrics._plot.confusion_matrix.ConfusionMatrixDisplay at 0x7f7efe147410>"
            ]
          },
          "metadata": {},
          "execution_count": 34
        },
        {
          "output_type": "display_data",
          "data": {
            "text/plain": [
              "<Figure size 432x288 with 2 Axes>"
            ],
            "image/png": "[encoded data removed]"
          },
          "metadata": {
            "image/png": {
              "width": 330,
              "height": 271
            },
            "needs_background": "light"
          }
        },
        {
          "output_type": "display_data",
          "data": {
            "text/plain": [
              "<Figure size 432x288 with 2 Axes>"
            ],
            "image/png": "[encoded data removed]"
          },
          "metadata": {
            "image/png": {
              "width": 320,
              "height": 272
            },
            "needs_background": "light"
          }
        }
      ]
    },
    {
      "cell_type": "code",
      "source": [
        "# Cross validation to check overfiting/underfitting\n",
        "df1 = pd.DataFrame(X_emo_train_logM_filter)\n",
        "f1_cv_emo_logM_filter = cross_validate(5, df1, y_emo_train, logM_emo_filter)\n",
        "print(\"Macro Average F1-score for each fold of Logistic Regression Model: \",f1_cv_emo_logM_filter)\n",
        "print(\"Average F1-score: \",np.mean(f1_cv_emo_logM_filter))"
      ],
      "metadata": {
        "colab": {
          "base_uri": "https://localhost:8080/"
        },
        "id": "fHL7JTHofB-f",
        "outputId": "35f63c8a-9aa6-41d6-8e72-7595ce7bb400"
      },
      "execution_count": null,
      "outputs": [
        {
          "output_type": "stream",
          "name": "stdout",
          "text": [
            "Macro Average F1-score for each fold of Logistic Regression Model:  [0.45894764957264955, 0.5278502415458937, 0.5047600930035934, 0.46557439271255063, 0.5412354281309214]\n",
            "Average F1-score:  0.49967356099312166\n"
          ]
        }
      ]
    },
    {
      "cell_type": "markdown",
      "source": [
        "<a name='Training with selected features'></a>\n",
        "\n",
        "##### 1.3.1.2  RandomForestClassifier"
      ],
      "metadata": {
        "id": "Hf30nk1DslzM"
      }
    },
    {
      "cell_type": "code",
      "source": [
        "# Select K best features, change \"num\" to get the best results.\n",
        "X_emo_train_rf_filter, X_emo_test_rf_filter, fs_rf_filter = select_features(X_emo_train1, y_emo_train, X_emo_test1, 40)"
      ],
      "metadata": {
        "id": "YbbbesnDs5ub"
      },
      "execution_count": null,
      "outputs": []
    },
    {
      "cell_type": "code",
      "source": [
        "#Use GridSearch to fine tune model\n",
        "\n",
        "from sklearn.model_selection import GridSearchCV\n",
        "\n",
        "rf_filter = RandomForestClassifier()\n",
        "tune_paragm = {\n",
        "    'n_estimators': [50, 100, 150],\n",
        "    'max_depth': [10, 50, 100],\n",
        "    'min_samples_split': [2, 3, 5],\n",
        "    'min_samples_leaf': [2, 3, 5],\n",
        "    'criterion': ['gini', 'entropy']\n",
        "}\n",
        "rf_gdcv_filter = GridSearchCV(rf_filter, tune_paragm, n_jobs=-1, cv=5, scoring='f1_macro')\n",
        "rf_gdcv_filter.fit(X_emo_train_rf_filter, y_emo_train)"
      ],
      "metadata": {
        "id": "QGkq7FeotCLj",
        "colab": {
          "base_uri": "https://localhost:8080/",
          "height": 346
        },
        "outputId": "a391f20f-0230-4a91-b72c-ac0043665353"
      },
      "execution_count": null,
      "outputs": [
        {
          "output_type": "error",
          "ename": "KeyboardInterrupt",
          "evalue": "ignored",
          "traceback": [
            "\u001b[0;31m---------------------------------------------------------------------------\u001b[0m",
            "\u001b[0;31mKeyboardInterrupt\u001b[0m                         Traceback (most recent call last)",
            "\u001b[0;32m<ipython-input-37-2dad1b4b43f6>\u001b[0m in \u001b[0;36m<module>\u001b[0;34m\u001b[0m\n\u001b[1;32m     12\u001b[0m }\n\u001b[1;32m     13\u001b[0m \u001b[0mrf_gdcv_filter\u001b[0m \u001b[0;34m=\u001b[0m \u001b[0mGridSearchCV\u001b[0m\u001b[0;34m(\u001b[0m\u001b[0mrf_filter\u001b[0m\u001b[0;34m,\u001b[0m \u001b[0mtune_paragm\u001b[0m\u001b[0;34m,\u001b[0m \u001b[0mn_jobs\u001b[0m\u001b[0;34m=\u001b[0m\u001b[0;34m-\u001b[0m\u001b[0;36m1\u001b[0m\u001b[0;34m,\u001b[0m \u001b[0mcv\u001b[0m\u001b[0;34m=\u001b[0m\u001b[0;36m5\u001b[0m\u001b[0;34m,\u001b[0m \u001b[0mscoring\u001b[0m\u001b[0;34m=\u001b[0m\u001b[0;34m'f1_macro'\u001b[0m\u001b[0;34m)\u001b[0m\u001b[0;34m\u001b[0m\u001b[0;34m\u001b[0m\u001b[0m\n\u001b[0;32m---> 14\u001b[0;31m \u001b[0mrf_gdcv_filter\u001b[0m\u001b[0;34m.\u001b[0m\u001b[0mfit\u001b[0m\u001b[0;34m(\u001b[0m\u001b[0mX_emo_train_rf_filter\u001b[0m\u001b[0;34m,\u001b[0m \u001b[0my_emo_train\u001b[0m\u001b[0;34m)\u001b[0m\u001b[0;34m\u001b[0m\u001b[0;34m\u001b[0m\u001b[0m\n\u001b[0m",
            "\u001b[0;32m/usr/local/lib/python3.7/dist-packages/sklearn/model_selection/_search.py\u001b[0m in \u001b[0;36mfit\u001b[0;34m(self, X, y, groups, **fit_params)\u001b[0m\n\u001b[1;32m    889\u001b[0m                 \u001b[0;32mreturn\u001b[0m \u001b[0mresults\u001b[0m\u001b[0;34m\u001b[0m\u001b[0;34m\u001b[0m\u001b[0m\n\u001b[1;32m    890\u001b[0m \u001b[0;34m\u001b[0m\u001b[0m\n\u001b[0;32m--> 891\u001b[0;31m             \u001b[0mself\u001b[0m\u001b[0;34m.\u001b[0m\u001b[0m_run_search\u001b[0m\u001b[0;34m(\u001b[0m\u001b[0mevaluate_candidates\u001b[0m\u001b[0;34m)\u001b[0m\u001b[0;34m\u001b[0m\u001b[0;34m\u001b[0m\u001b[0m\n\u001b[0m\u001b[1;32m    892\u001b[0m \u001b[0;34m\u001b[0m\u001b[0m\n\u001b[1;32m    893\u001b[0m             \u001b[0;31m# multimetric is determined here because in the case of a callable\u001b[0m\u001b[0;34m\u001b[0m\u001b[0;34m\u001b[0m\u001b[0;34m\u001b[0m\u001b[0m\n",
            "\u001b[0;32m/usr/local/lib/python3.7/dist-packages/sklearn/model_selection/_search.py\u001b[0m in \u001b[0;36m_run_search\u001b[0;34m(self, evaluate_candidates)\u001b[0m\n\u001b[1;32m   1390\u001b[0m     \u001b[0;32mdef\u001b[0m \u001b[0m_run_search\u001b[0m\u001b[0;34m(\u001b[0m\u001b[0mself\u001b[0m\u001b[0;34m,\u001b[0m \u001b[0mevaluate_candidates\u001b[0m\u001b[0;34m)\u001b[0m\u001b[0;34m:\u001b[0m\u001b[0;34m\u001b[0m\u001b[0;34m\u001b[0m\u001b[0m\n\u001b[1;32m   1391\u001b[0m         \u001b[0;34m\"\"\"Search all candidates in param_grid\"\"\"\u001b[0m\u001b[0;34m\u001b[0m\u001b[0;34m\u001b[0m\u001b[0m\n\u001b[0;32m-> 1392\u001b[0;31m         \u001b[0mevaluate_candidates\u001b[0m\u001b[0;34m(\u001b[0m\u001b[0mParameterGrid\u001b[0m\u001b[0;34m(\u001b[0m\u001b[0mself\u001b[0m\u001b[0;34m.\u001b[0m\u001b[0mparam_grid\u001b[0m\u001b[0;34m)\u001b[0m\u001b[0;34m)\u001b[0m\u001b[0;34m\u001b[0m\u001b[0;34m\u001b[0m\u001b[0m\n\u001b[0m\u001b[1;32m   1393\u001b[0m \u001b[0;34m\u001b[0m\u001b[0m\n\u001b[1;32m   1394\u001b[0m \u001b[0;34m\u001b[0m\u001b[0m\n",
            "\u001b[0;32m/usr/local/lib/python3.7/dist-packages/sklearn/model_selection/_search.py\u001b[0m in \u001b[0;36mevaluate_candidates\u001b[0;34m(candidate_params, cv, more_results)\u001b[0m\n\u001b[1;32m    849\u001b[0m                     )\n\u001b[1;32m    850\u001b[0m                     for (cand_idx, parameters), (split_idx, (train, test)) in product(\n\u001b[0;32m--> 851\u001b[0;31m                         \u001b[0menumerate\u001b[0m\u001b[0;34m(\u001b[0m\u001b[0mcandidate_params\u001b[0m\u001b[0;34m)\u001b[0m\u001b[0;34m,\u001b[0m \u001b[0menumerate\u001b[0m\u001b[0;34m(\u001b[0m\u001b[0mcv\u001b[0m\u001b[0;34m.\u001b[0m\u001b[0msplit\u001b[0m\u001b[0;34m(\u001b[0m\u001b[0mX\u001b[0m\u001b[0;34m,\u001b[0m \u001b[0my\u001b[0m\u001b[0;34m,\u001b[0m \u001b[0mgroups\u001b[0m\u001b[0;34m)\u001b[0m\u001b[0;34m)\u001b[0m\u001b[0;34m\u001b[0m\u001b[0;34m\u001b[0m\u001b[0m\n\u001b[0m\u001b[1;32m    852\u001b[0m                     )\n\u001b[1;32m    853\u001b[0m                 )\n",
            "\u001b[0;32m/usr/local/lib/python3.7/dist-packages/joblib/parallel.py\u001b[0m in \u001b[0;36m__call__\u001b[0;34m(self, iterable)\u001b[0m\n\u001b[1;32m   1096\u001b[0m \u001b[0;34m\u001b[0m\u001b[0m\n\u001b[1;32m   1097\u001b[0m             \u001b[0;32mwith\u001b[0m \u001b[0mself\u001b[0m\u001b[0;34m.\u001b[0m\u001b[0m_backend\u001b[0m\u001b[0;34m.\u001b[0m\u001b[0mretrieval_context\u001b[0m\u001b[0;34m(\u001b[0m\u001b[0;34m)\u001b[0m\u001b[0;34m:\u001b[0m\u001b[0;34m\u001b[0m\u001b[0;34m\u001b[0m\u001b[0m\n\u001b[0;32m-> 1098\u001b[0;31m                 \u001b[0mself\u001b[0m\u001b[0;34m.\u001b[0m\u001b[0mretrieve\u001b[0m\u001b[0;34m(\u001b[0m\u001b[0;34m)\u001b[0m\u001b[0;34m\u001b[0m\u001b[0;34m\u001b[0m\u001b[0m\n\u001b[0m\u001b[1;32m   1099\u001b[0m             \u001b[0;31m# Make sure that we get a last message telling us we are done\u001b[0m\u001b[0;34m\u001b[0m\u001b[0;34m\u001b[0m\u001b[0;34m\u001b[0m\u001b[0m\n\u001b[1;32m   1100\u001b[0m             \u001b[0melapsed_time\u001b[0m \u001b[0;34m=\u001b[0m \u001b[0mtime\u001b[0m\u001b[0;34m.\u001b[0m\u001b[0mtime\u001b[0m\u001b[0;34m(\u001b[0m\u001b[0;34m)\u001b[0m \u001b[0;34m-\u001b[0m \u001b[0mself\u001b[0m\u001b[0;34m.\u001b[0m\u001b[0m_start_time\u001b[0m\u001b[0;34m\u001b[0m\u001b[0;34m\u001b[0m\u001b[0m\n",
            "\u001b[0;32m/usr/local/lib/python3.7/dist-packages/joblib/parallel.py\u001b[0m in \u001b[0;36mretrieve\u001b[0;34m(self)\u001b[0m\n\u001b[1;32m    973\u001b[0m             \u001b[0;32mtry\u001b[0m\u001b[0;34m:\u001b[0m\u001b[0;34m\u001b[0m\u001b[0;34m\u001b[0m\u001b[0m\n\u001b[1;32m    974\u001b[0m                 \u001b[0;32mif\u001b[0m \u001b[0mgetattr\u001b[0m\u001b[0;34m(\u001b[0m\u001b[0mself\u001b[0m\u001b[0;34m.\u001b[0m\u001b[0m_backend\u001b[0m\u001b[0;34m,\u001b[0m \u001b[0;34m'supports_timeout'\u001b[0m\u001b[0;34m,\u001b[0m \u001b[0;32mFalse\u001b[0m\u001b[0;34m)\u001b[0m\u001b[0;34m:\u001b[0m\u001b[0;34m\u001b[0m\u001b[0;34m\u001b[0m\u001b[0m\n\u001b[0;32m--> 975\u001b[0;31m                     \u001b[0mself\u001b[0m\u001b[0;34m.\u001b[0m\u001b[0m_output\u001b[0m\u001b[0;34m.\u001b[0m\u001b[0mextend\u001b[0m\u001b[0;34m(\u001b[0m\u001b[0mjob\u001b[0m\u001b[0;34m.\u001b[0m\u001b[0mget\u001b[0m\u001b[0;34m(\u001b[0m\u001b[0mtimeout\u001b[0m\u001b[0;34m=\u001b[0m\u001b[0mself\u001b[0m\u001b[0;34m.\u001b[0m\u001b[0mtimeout\u001b[0m\u001b[0;34m)\u001b[0m\u001b[0;34m)\u001b[0m\u001b[0;34m\u001b[0m\u001b[0;34m\u001b[0m\u001b[0m\n\u001b[0m\u001b[1;32m    976\u001b[0m                 \u001b[0;32melse\u001b[0m\u001b[0;34m:\u001b[0m\u001b[0;34m\u001b[0m\u001b[0;34m\u001b[0m\u001b[0m\n\u001b[1;32m    977\u001b[0m                     \u001b[0mself\u001b[0m\u001b[0;34m.\u001b[0m\u001b[0m_output\u001b[0m\u001b[0;34m.\u001b[0m\u001b[0mextend\u001b[0m\u001b[0;34m(\u001b[0m\u001b[0mjob\u001b[0m\u001b[0;34m.\u001b[0m\u001b[0mget\u001b[0m\u001b[0;34m(\u001b[0m\u001b[0;34m)\u001b[0m\u001b[0;34m)\u001b[0m\u001b[0;34m\u001b[0m\u001b[0;34m\u001b[0m\u001b[0m\n",
            "\u001b[0;32m/usr/local/lib/python3.7/dist-packages/joblib/_parallel_backends.py\u001b[0m in \u001b[0;36mwrap_future_result\u001b[0;34m(future, timeout)\u001b[0m\n\u001b[1;32m    565\u001b[0m         AsyncResults.get from multiprocessing.\"\"\"\n\u001b[1;32m    566\u001b[0m         \u001b[0;32mtry\u001b[0m\u001b[0;34m:\u001b[0m\u001b[0;34m\u001b[0m\u001b[0;34m\u001b[0m\u001b[0m\n\u001b[0;32m--> 567\u001b[0;31m             \u001b[0;32mreturn\u001b[0m \u001b[0mfuture\u001b[0m\u001b[0;34m.\u001b[0m\u001b[0mresult\u001b[0m\u001b[0;34m(\u001b[0m\u001b[0mtimeout\u001b[0m\u001b[0;34m=\u001b[0m\u001b[0mtimeout\u001b[0m\u001b[0;34m)\u001b[0m\u001b[0;34m\u001b[0m\u001b[0;34m\u001b[0m\u001b[0m\n\u001b[0m\u001b[1;32m    568\u001b[0m         \u001b[0;32mexcept\u001b[0m \u001b[0mCfTimeoutError\u001b[0m \u001b[0;32mas\u001b[0m \u001b[0me\u001b[0m\u001b[0;34m:\u001b[0m\u001b[0;34m\u001b[0m\u001b[0;34m\u001b[0m\u001b[0m\n\u001b[1;32m    569\u001b[0m             \u001b[0;32mraise\u001b[0m \u001b[0mTimeoutError\u001b[0m \u001b[0;32mfrom\u001b[0m \u001b[0me\u001b[0m\u001b[0;34m\u001b[0m\u001b[0;34m\u001b[0m\u001b[0m\n",
            "\u001b[0;32m/usr/lib/python3.7/concurrent/futures/_base.py\u001b[0m in \u001b[0;36mresult\u001b[0;34m(self, timeout)\u001b[0m\n\u001b[1;32m    428\u001b[0m                 \u001b[0;32mreturn\u001b[0m \u001b[0mself\u001b[0m\u001b[0;34m.\u001b[0m\u001b[0m__get_result\u001b[0m\u001b[0;34m(\u001b[0m\u001b[0;34m)\u001b[0m\u001b[0;34m\u001b[0m\u001b[0;34m\u001b[0m\u001b[0m\n\u001b[1;32m    429\u001b[0m \u001b[0;34m\u001b[0m\u001b[0m\n\u001b[0;32m--> 430\u001b[0;31m             \u001b[0mself\u001b[0m\u001b[0;34m.\u001b[0m\u001b[0m_condition\u001b[0m\u001b[0;34m.\u001b[0m\u001b[0mwait\u001b[0m\u001b[0;34m(\u001b[0m\u001b[0mtimeout\u001b[0m\u001b[0;34m)\u001b[0m\u001b[0;34m\u001b[0m\u001b[0;34m\u001b[0m\u001b[0m\n\u001b[0m\u001b[1;32m    431\u001b[0m \u001b[0;34m\u001b[0m\u001b[0m\n\u001b[1;32m    432\u001b[0m             \u001b[0;32mif\u001b[0m \u001b[0mself\u001b[0m\u001b[0;34m.\u001b[0m\u001b[0m_state\u001b[0m \u001b[0;32min\u001b[0m \u001b[0;34m[\u001b[0m\u001b[0mCANCELLED\u001b[0m\u001b[0;34m,\u001b[0m \u001b[0mCANCELLED_AND_NOTIFIED\u001b[0m\u001b[0;34m]\u001b[0m\u001b[0;34m:\u001b[0m\u001b[0;34m\u001b[0m\u001b[0;34m\u001b[0m\u001b[0m\n",
            "\u001b[0;32m/usr/lib/python3.7/threading.py\u001b[0m in \u001b[0;36mwait\u001b[0;34m(self, timeout)\u001b[0m\n\u001b[1;32m    294\u001b[0m         \u001b[0;32mtry\u001b[0m\u001b[0;34m:\u001b[0m    \u001b[0;31m# restore state no matter what (e.g., KeyboardInterrupt)\u001b[0m\u001b[0;34m\u001b[0m\u001b[0;34m\u001b[0m\u001b[0m\n\u001b[1;32m    295\u001b[0m             \u001b[0;32mif\u001b[0m \u001b[0mtimeout\u001b[0m \u001b[0;32mis\u001b[0m \u001b[0;32mNone\u001b[0m\u001b[0;34m:\u001b[0m\u001b[0;34m\u001b[0m\u001b[0;34m\u001b[0m\u001b[0m\n\u001b[0;32m--> 296\u001b[0;31m                 \u001b[0mwaiter\u001b[0m\u001b[0;34m.\u001b[0m\u001b[0macquire\u001b[0m\u001b[0;34m(\u001b[0m\u001b[0;34m)\u001b[0m\u001b[0;34m\u001b[0m\u001b[0;34m\u001b[0m\u001b[0m\n\u001b[0m\u001b[1;32m    297\u001b[0m                 \u001b[0mgotit\u001b[0m \u001b[0;34m=\u001b[0m \u001b[0;32mTrue\u001b[0m\u001b[0;34m\u001b[0m\u001b[0;34m\u001b[0m\u001b[0m\n\u001b[1;32m    298\u001b[0m             \u001b[0;32melse\u001b[0m\u001b[0;34m:\u001b[0m\u001b[0;34m\u001b[0m\u001b[0;34m\u001b[0m\u001b[0m\n",
            "\u001b[0;31mKeyboardInterrupt\u001b[0m: "
          ]
        }
      ]
    },
    {
      "cell_type": "code",
      "source": [
        "# Get the best parameters\n",
        "rf_gdcv_filter.best_params_\n",
        "\n",
        "# Save the seed\n",
        "\n",
        "# num=30: 'criterion': 'entropy', 'max_depth': 10, 'min_samples_leaf': 3, 'min_samples_split': 2, 'n_estimators': 50\n",
        "# num=45: 'criterion': 'gini', 'max_depth': 50, 'min_samples_leaf': 2, 'min_samples_split': 3, 'n_estimators': 50\n",
        "# num=40: 'criterion': 'entropy', 'max_depth': 10, 'min_samples_leaf': 2, 'min_samples_split': 5, 'n_estimators': 50\n",
        "# num=35: 'criterion': 'gini', 'max_depth': 100, 'min_samples_leaf': 3, 'min_samples_split': 2, 'n_estimators': 100"
      ],
      "metadata": {
        "id": "Z80AGRFauWnV"
      },
      "execution_count": null,
      "outputs": []
    },
    {
      "cell_type": "code",
      "source": [
        "rf_emo_filter = RandomForestClassifier(n_estimators=50, max_depth=10, min_samples_split=5, min_samples_leaf=2, criterion='entropy', random_state=0)\n",
        "rf_emo_filter.fit(X_emo_train_rf_filter, y_emo_train)\n",
        "\n",
        "# Making predictions \n",
        "y_emo_train_pred_rf_filter = rf_emo_filter.predict(X_emo_train_rf_filter) #Training set\n",
        "y_emo_test_pred_rf_filter = rf_emo_filter.predict(X_emo_test_rf_filter) #Test set\n",
        "\n",
        "# Calculating F1-scores\n",
        "\n",
        "#Training Report\n",
        "rf_report_train_emo_filter = classification_report(y_emo_train, y_emo_train_pred_rf_filter)\n",
        "print(\"Training Classification Report: Random Forest (After Feature Selection) for Emo-soundscape dataset:\\n\",rf_report_train_emo_filter)\n",
        "\n",
        "#Getting confusion matrix for Training Data\n",
        "cm_emo_rf_train_filter = confusion_matrix(y_emo_train, y_emo_train_pred_rf_filter, labels=rf_emo_filter.classes_)\n",
        "\n",
        "disp_train = ConfusionMatrixDisplay(confusion_matrix=cm_emo_rf_train_filter, display_labels=rf_emo_filter.classes_)\n",
        "disp_train.plot()\n",
        "\n",
        "#Testing Report\n",
        "rf_report_test_emo_filter = classification_report(y_emo_test, y_emo_test_pred_rf_filter)\n",
        "print(\"Testing Classification Report: Random Forest (After Feature Selection) for Emo-soundscape dataset:\\n\",rf_report_test_emo_filter)\n",
        "\n",
        "#Getting confusion matrix for Testing Data\n",
        "cm_emo_rf_test_filter = confusion_matrix(y_emo_test, y_emo_test_pred_rf_filter, labels=rf_emo_filter.classes_)\n",
        "\n",
        "disp_test = ConfusionMatrixDisplay(confusion_matrix=cm_emo_rf_test_filter, display_labels=rf_emo_filter.classes_)\n",
        "disp_test.plot()"
      ],
      "metadata": {
        "id": "fsCnUUNYuoLA"
      },
      "execution_count": null,
      "outputs": []
    },
    {
      "cell_type": "code",
      "source": [
        "# Cross validation to check overfiting/underfitting\n",
        "df2 = pd.DataFrame(X_emo_train_rf_filter)\n",
        "f1_cv_emo_rf_filter = cross_validate(5, df2, y_emo_train, rf_emo_filter)\n",
        "print(\"Macro Average f1-score for each fold of Logistic Regression Model: \",f1_cv_emo_rf_filter)\n",
        "print(\"Average macro Score: \",np.mean(f1_cv_emo_rf_filter))"
      ],
      "metadata": {
        "id": "taMsbrhUb2Vy"
      },
      "execution_count": null,
      "outputs": []
    },
    {
      "cell_type": "markdown",
      "source": [
        "<a name='load_data'></a>\n",
        "\n",
        "#### 1.3.2 Boruta Algorithm\n"
      ],
      "metadata": {
        "id": "Xx_E17Fa1Hr7"
      }
    },
    {
      "cell_type": "code",
      "source": [
        "# Install and Import Boruta Library\n",
        "!pip install boruta\n",
        "from boruta import BorutaPy"
      ],
      "metadata": {
        "id": "Ip4SxWew1P3E"
      },
      "execution_count": null,
      "outputs": []
    },
    {
      "cell_type": "code",
      "source": [
        "X_emo_train.shape"
      ],
      "metadata": {
        "id": "4YQDWiY219wT"
      },
      "execution_count": null,
      "outputs": []
    },
    {
      "cell_type": "code",
      "source": [
        "###initialize Boruta\n",
        "forest = RandomForestClassifier(n_jobs = -1)\n",
        "boruta = BorutaPy(estimator = forest, n_estimators = 'auto', max_iter = 100)\n",
        "\n",
        "### fit Boruta (it accepts np.array, not pd.DataFrame)\n",
        "boruta.fit(np.array(X_emo_train), np.array(y_emo_train))\n",
        "### print results\n",
        "green_area = X_emo_train.columns[boruta.support_].to_list()\n",
        "blue_area = X_emo_train.columns[boruta.support_weak_].to_list()\n",
        "\n",
        "print('number of features in the green area:', len(green_area))\n",
        "print(green_area)\n",
        "print('number of features in the blue area:', len(blue_area))\n",
        "print(blue_area)\n",
        "\n",
        "boruta_selected_features = green_area + blue_area"
      ],
      "metadata": {
        "id": "gGuMwL5z1VcZ"
      },
      "execution_count": null,
      "outputs": []
    },
    {
      "cell_type": "markdown",
      "source": [
        "<a name='Training with selected features'></a>\n",
        "\n",
        "##### 1.3.2.1  Logistic Regression"
      ],
      "metadata": {
        "id": "49bxy9Et30rd"
      }
    },
    {
      "cell_type": "code",
      "source": [
        "#Fitting Logistic Regression to training set\n",
        "logM_emo_boruta = LogisticRegression(penalty='none', solver='saga', random_state=0)\n",
        "logM_emo_boruta.fit(X_emo_train[boruta_selected_features], y_emo_train)\n",
        "\n",
        "#Making predictions\n",
        "y_emo_train_pred_boruta = logM_emo_boruta.predict(X_emo_train[boruta_selected_features]) #Training set\n",
        "y_emo_test_pred_boruta = logM_emo_boruta.predict(X_emo_test[boruta_selected_features]) #Test set\n",
        "\n",
        "# Calculating F1-scores\n",
        "\n",
        "#Training Report\n",
        "logM_report_train_emo_boruta = classification_report(y_emo_train, y_emo_train_pred_boruta)\n",
        "print(\"Training Classification Report: Logistic Regression (After Feature Selection) for Emo-soundscape dataset:\\n\",logM_report_train_emo_boruta)\n",
        "\n",
        "#Getting confusion matrix for Training Data\n",
        "cm_emo_logM_train_boruta = confusion_matrix(y_emo_train, y_emo_train_pred_boruta, labels=logM_emo_boruta.classes_)\n",
        "\n",
        "disp_train = ConfusionMatrixDisplay(confusion_matrix=cm_emo_logM_train_boruta, display_labels=logM_emo_boruta.classes_)\n",
        "disp_train.plot()\n",
        "\n",
        "#Testing Report\n",
        "logM_report_test_emo_boruta = classification_report(y_emo_test, y_emo_test_pred_boruta)\n",
        "print(\"Testing Classification Report: Logistic Regression (After Feature Selection) for Emo-soundscape dataset:\\n\",logM_report_test_emo_boruta)\n",
        "\n",
        "#Getting confusion matrix for Testing Data\n",
        "cm_emo_logM_test_boruta = confusion_matrix(y_emo_test, y_emo_test_pred_boruta, labels=logM_emo_boruta.classes_)\n",
        "\n",
        "disp_test = ConfusionMatrixDisplay(confusion_matrix=cm_emo_logM_test_boruta, display_labels=logM_emo_boruta.classes_)\n",
        "disp_test.plot()"
      ],
      "metadata": {
        "id": "t0n-VBL2tT8d"
      },
      "execution_count": null,
      "outputs": []
    },
    {
      "cell_type": "code",
      "source": [
        "# Cross validation to check overfiting/underfitting\n",
        "df3 = pd.DataFrame(X_emo_train[boruta_selected_features])\n",
        "f1_cv_emo_logM_boruta = cross_validate(5, df3, y_emo_train, logM_emo_boruta)\n",
        "print(\"Macro Average F1-score for each fold of Logistic Regression Model: \",f1_cv_emo_logM_boruta)\n",
        "print(\"Average F1-score: \",np.mean(f1_cv_emo_logM_filter))"
      ],
      "metadata": {
        "id": "2Z2WisMdurTy"
      },
      "execution_count": null,
      "outputs": []
    },
    {
      "cell_type": "markdown",
      "source": [
        "<a name='Training with selected features'></a>\n",
        "\n",
        "##### 1.3.2.2  RandomForestClassifier"
      ],
      "metadata": {
        "id": "WkFF9gmu3wJr"
      }
    },
    {
      "cell_type": "code",
      "source": [
        "#Use GridSearch to fine tune Random Forest model\n",
        "\n",
        "rf_boruta = RandomForestClassifier()\n",
        "tune_paragm = {\n",
        "    'n_estimators': [50, 100, 150],\n",
        "    'max_depth': [10, 50, 100],\n",
        "    'min_samples_split': [2, 3, 5],\n",
        "    'min_samples_leaf': [2, 3, 5],\n",
        "    'criterion': ['gini', 'entropy']\n",
        "}\n",
        "rf_gdcv_boruta = GridSearchCV(rf_boruta, tune_paragm, n_jobs=-1, cv=5)\n",
        "rf_gdcv_boruta.fit(X_emo_train[boruta_selected_features], y_emo_train)\n",
        "\n",
        "print(rf_gdcv_boruta.best_params_)"
      ],
      "metadata": {
        "id": "csiJ0E-G2J6T"
      },
      "execution_count": null,
      "outputs": []
    },
    {
      "cell_type": "code",
      "source": [
        "rf_emo_boruta = RandomForestClassifier(n_estimators=100, max_depth=10, min_samples_split=2, min_samples_leaf=5, criterion='entropy', random_state=0)\n",
        "rf_emo_boruta.fit(X_emo_train[boruta_selected_features], y_emo_train)\n",
        "\n",
        "# Making predictions \n",
        "y_emo_train_pred_rf_boruta = rf_emo_boruta.predict(X_emo_train[boruta_selected_features]) #Training set\n",
        "y_emo_test_pred_rf_boruta = rf_emo_boruta.predict(X_emo_test[boruta_selected_features]) #Test set\n",
        "\n",
        "# Calculating F1-scores\n",
        "\n",
        "#Training Report\n",
        "rf_report_train_emo_boruta = classification_report(y_emo_train, y_emo_train_pred_rf_boruta)\n",
        "print(\"Training Classification Report: Random Forest (After Feature Selection) for Emo-soundscape dataset:\\n\",rf_report_train_emo_boruta)\n",
        "\n",
        "#Getting confusion matrix for Training Data\n",
        "cm_emo_rf_train_boruta = confusion_matrix(y_emo_train, y_emo_train_pred_rf_boruta, labels=rf_emo_boruta.classes_)\n",
        "\n",
        "disp_train = ConfusionMatrixDisplay(confusion_matrix=cm_emo_rf_train_boruta, display_labels=rf_emo_boruta.classes_)\n",
        "disp_train.plot()\n",
        "\n",
        "#Testing Report\n",
        "rf_report_test_emo_boruta = classification_report(y_emo_test, y_emo_test_pred_rf_boruta)\n",
        "print(\"Testing Classification Report: Random Forest (After Feature Selection) for Emo-soundscape dataset:\\n\",rf_report_test_emo_boruta)\n",
        "\n",
        "#Getting confusion matrix for Testing Data\n",
        "cm_emo_rf_test_boruta = confusion_matrix(y_emo_test, y_emo_test_pred_rf_boruta, labels=rf_emo_boruta.classes_)\n",
        "\n",
        "disp_test = ConfusionMatrixDisplay(confusion_matrix=cm_emo_rf_test_boruta, display_labels=rf_emo_boruta.classes_)\n",
        "disp_test.plot()"
      ],
      "metadata": {
        "id": "wq7G2-z6269_"
      },
      "execution_count": null,
      "outputs": []
    },
    {
      "cell_type": "code",
      "source": [
        "# Cross validation to check overfiting/underfitting\n",
        "f1_cv_emo_rf_boruta = cross_validate(5, df3, y_emo_train, rf_emo_boruta)\n",
        "print(\"Macro Average F1-score  for each fold of Logistic Regression Model: \",f1_cv_emo_rf_boruta)\n",
        "print(\"Average F1-score: \",np.mean(f1_cv_emo_rf_boruta))"
      ],
      "metadata": {
        "id": "cc6lHmlhvKvY"
      },
      "execution_count": null,
      "outputs": []
    },
    {
      "cell_type": "markdown",
      "metadata": {
        "id": "Sxw3GJbNHhVL"
      },
      "source": [
        "<a name='load_data'></a>\n",
        "\n",
        "### 2.1 IADSE Dataset Preprocessing\n",
        "\n",
        "---\n",
        "\n",
        "Import the csv into a pandas DataFrame."
      ]
    },
    {
      "cell_type": "code",
      "execution_count": null,
      "metadata": {
        "id": "a0REmpxRHxOW"
      },
      "outputs": [],
      "source": [
        "# Read IADSE.csv into a DataFrame.\n",
        "iadsed_file = 'IADSED.csv'\n",
        "\n",
        "iadse = pd.read_csv(iadsed_file)\n",
        "iadse.head(5)"
      ]
    },
    {
      "cell_type": "code",
      "execution_count": null,
      "metadata": {
        "id": "KJ030J-5IXl-"
      },
      "outputs": [],
      "source": [
        "iadse.shape"
      ]
    },
    {
      "cell_type": "code",
      "execution_count": null,
      "metadata": {
        "id": "hP9gwaJ617TZ"
      },
      "outputs": [],
      "source": [
        "# Get all the columns which have missing values\n",
        "iad_null_count = iadse.isnull().sum()\n",
        "iad_null_count[iad_null_count > 0].sort_values(ascending = False)"
      ]
    },
    {
      "cell_type": "code",
      "execution_count": null,
      "metadata": {
        "id": "5OzKeqdsP3bX"
      },
      "outputs": [],
      "source": [
        "# Drop the rows with null values\n",
        "iadse = iadse.dropna(how='any',axis=0)"
      ]
    },
    {
      "cell_type": "code",
      "execution_count": null,
      "metadata": {
        "id": "hpOYA7oL3Ypp"
      },
      "outputs": [],
      "source": [
        "# Check again, there are no more null values left.\n",
        "iad_null_count = iadse.isnull().sum()\n",
        "iad_null_count[iad_null_count > 0].sort_values(ascending=False)"
      ]
    },
    {
      "cell_type": "code",
      "source": [
        "iadse.shape"
      ],
      "metadata": {
        "id": "qacfDcBaj_sC"
      },
      "execution_count": null,
      "outputs": []
    },
    {
      "cell_type": "code",
      "source": [
        "fig, axes = plt.subplots(1,3, figsize=(24,8))\n",
        "plt.rcParams['font.size'] = '15'\n",
        "iadse.plot(ax=axes[0], kind='scatter', y='arousal', x='valence');\n",
        "iadse['arousal'].plot(ax=axes[1], kind='line', style='*b', xlabel='sample number', ylabel='arousal value');\n",
        "iadse['valence'].plot(ax=axes[2], kind='line', style='*b', xlabel='sample number', ylabel='valence value');"
      ],
      "metadata": {
        "id": "4pnIkuUOkJS4"
      },
      "execution_count": null,
      "outputs": []
    },
    {
      "cell_type": "code",
      "source": [
        "print('The maximum value of arousal is {}'.format(iadse['arousal'].max()))\n",
        "print('The minimum value of arousal is {}'.format(iadse['arousal'].min()))\n",
        "print('The maximum value of valence is {}'.format(iadse['valence'].max()))\n",
        "print('The minimum value of valence is {}'.format(iadse['valence'].min()))"
      ],
      "metadata": {
        "id": "qcEkliLgkuVl"
      },
      "execution_count": null,
      "outputs": []
    },
    {
      "cell_type": "code",
      "source": [
        "# Map the 'arousal' and 'valence' to value range of (-1, 1)\n",
        "iadse_new=iadse.copy()\n",
        "iadse_new['arousal']=(iadse_new['arousal']-iadse_new['arousal'].mean())/iadse_new['arousal'].std()\n",
        "iadse_new['arousal']=iadse_new['arousal']/iadse_new['arousal'].abs().max()\n",
        "iadse_new['valence']=(iadse_new['valence']-iadse_new['valence'].mean())/iadse_new['valence'].std()\n",
        "iadse_new['valence']=iadse_new['valence']/iadse_new['valence'].abs().max()\n",
        "print('The maximum value of arousal is {}'.format(iadse_new['arousal'].max()))\n",
        "print('The minimum value of arousal is {}'.format(iadse_new['arousal'].min()))\n",
        "print('The maximum value of valence is {}'.format(iadse_new['valence'].max()))\n",
        "print('The minimum value of valence is {}'.format(iadse_new['valence'].min()))"
      ],
      "metadata": {
        "id": "Pr1c2fpssAUF"
      },
      "execution_count": null,
      "outputs": []
    },
    {
      "cell_type": "code",
      "source": [
        "fig, axes = plt.subplots(1,3, figsize=(24,8))\n",
        "plt.rcParams['font.size'] = '15'\n",
        "iadse_plt = iadse_new.plot(ax=axes[0], kind='scatter', y='arousal', x='valence');\n",
        "iadse_plt.axhline(0, color = 'black')\n",
        "iadse_plt.axvline(0, color = 'black')\n",
        "iadse_new['arousal'].plot(ax=axes[1], kind='line', style='*b', xlabel='sample number', ylabel='arousal value');\n",
        "iadse_new['valence'].plot(ax=axes[2], kind='line', style='*b', xlabel='sample number', ylabel='valence value');"
      ],
      "metadata": {
        "id": "9V06xQNkRw1H"
      },
      "execution_count": null,
      "outputs": []
    },
    {
      "cell_type": "code",
      "source": [
        "# Create a new dataset with labels\n",
        "iadse_new = iadse_new.assign(targetColumn = 0)\n",
        "iadse_new.loc[(iadse_new['arousal']>=0) & (iadse_new['valence']>=0), 'targetColumn'] = '1'  # High-Arousal, Positive-Valence\n",
        "iadse_new.loc[(iadse_new['arousal']>=0) & (iadse_new['valence']<0), 'targetColumn'] = '2'   # High-Arousal, Negative-Valence\n",
        "iadse_new.loc[(iadse_new['arousal']<0) & (iadse_new['valence']<0), 'targetColumn'] = '3'    # Low-Arousal, Negative-Valence\n",
        "iadse_new.loc[(iadse_new['arousal']<0) & (iadse_new['valence']>=0), 'targetColumn'] = '4'   # Low-Arousal, Positive-Valence"
      ],
      "metadata": {
        "id": "ss6EWC-lkuVn"
      },
      "execution_count": null,
      "outputs": []
    },
    {
      "cell_type": "code",
      "source": [
        "# Check the numbers of each category---- Imbalanced \n",
        "iadse_new['targetColumn'].value_counts()"
      ],
      "metadata": {
        "id": "oc8apfi-q9hA"
      },
      "execution_count": null,
      "outputs": []
    },
    {
      "cell_type": "code",
      "source": [
        "# Shift the 'label' column ahead for better visualization.\n",
        "label = iadse_new.pop('targetColumn')\n",
        "iadse_new.insert(8, 'targetColumn', label)\n",
        "iadse_new.head()"
      ],
      "metadata": {
        "id": "uFoGsCC5t2JI"
      },
      "execution_count": null,
      "outputs": []
    },
    {
      "cell_type": "code",
      "execution_count": null,
      "metadata": {
        "id": "OWxVWO6rLTSO"
      },
      "outputs": [],
      "source": [
        "# Min Max Normalization\n",
        "num_cols_iadse = list(iadse_new.select_dtypes(include=[np.number]).columns.values)\n",
        "num_cols_iadse.remove('arousal')\n",
        "num_cols_iadse.remove('valence')\n",
        "num_cols_iadse.remove('dominance')\n",
        "\n",
        "normalized_iadse_min_max = iadse_new.copy()\n",
        "\n",
        "normalized_iadse_min_max[num_cols_iadse] = (iadse_new[num_cols_iadse]-iadse_new[num_cols_iadse].min())/(iadse_new[num_cols_iadse].max() - iadse_new[num_cols_iadse].min())\n",
        "\n",
        "# Change to a shorter name\n",
        "iad = normalized_iadse_min_max\n",
        "iad.head()"
      ]
    },
    {
      "cell_type": "markdown",
      "source": [
        "<a name='Train'></a>\n",
        "\n",
        "### 2.2 IADSE Dataset Training"
      ],
      "metadata": {
        "id": "GpFslfCnuuKF"
      }
    },
    {
      "cell_type": "code",
      "source": [
        "#Shuffling the dataset\n",
        "\n",
        "iad_shuffle = shuffle(iad)\n",
        "\n",
        "X_iad = iad_shuffle.iloc[:,9:]\n",
        "y_iad = iad_shuffle.iloc[:,8]\n",
        "\n",
        "# Splitting the data into train and test sets after shuffling\n",
        "# 80% 20% split\n",
        "X_iad_train, X_iad_test, y_iad_train, y_iad_test,  = train_test_split(X_iad, y_iad, test_size=0.2, random_state=0)"
      ],
      "metadata": {
        "id": "9mFMtXMcu2px"
      },
      "execution_count": null,
      "outputs": []
    },
    {
      "cell_type": "markdown",
      "source": [
        "<a name='Logistic regression'></a>\n",
        "\n",
        "#### 2.2.1 Logistic Regression"
      ],
      "metadata": {
        "id": "yEQeyN9qu2px"
      }
    },
    {
      "cell_type": "code",
      "source": [
        "#Logistic Regression with Linear Features\n",
        "\n",
        "# Fitting Logistic Regression to training set\n",
        "logM_iad = LogisticRegression(penalty='none', solver='saga', random_state=0)\n",
        "logM_iad.fit(X_iad_train, y_iad_train)\n",
        "\n",
        "# Making predictions\n",
        "y_iad_train_pred = logM_iad.predict(X_iad_train) #Training set\n",
        "y_iad_test_pred = logM_iad.predict(X_iad_test) #Test set"
      ],
      "metadata": {
        "id": "TBY1RgYDu2px"
      },
      "execution_count": null,
      "outputs": []
    },
    {
      "cell_type": "code",
      "source": [
        "# Calculating F1-scores\n",
        "\n",
        "#Training Report\n",
        "log_report_train_iad = classification_report(y_iad_train, y_iad_train_pred)\n",
        "print(\"Training Classification Report: Logistic Regression for IADSE dataset:\\n\",log_report_train_iad)\n",
        "\n",
        "#Getting confusion matrix for Training Data\n",
        "cm_iad_logM_train = confusion_matrix(y_iad_train, y_iad_train_pred, labels=logM_iad.classes_)\n",
        "\n",
        "disp_train_iad = ConfusionMatrixDisplay(confusion_matrix=cm_iad_logM_train, display_labels=logM_iad.classes_)\n",
        "disp_train_iad.plot()\n",
        "\n",
        "#Testing Report\n",
        "log_report_test_iad = classification_report(y_iad_test, y_iad_test_pred)\n",
        "print(\"Testing Classification Report: Logistic Regression for IADSE dataset:\\n\",log_report_test_iad)\n",
        "\n",
        "#Getting confusion matrix for Testing Data\n",
        "cm_iad_logM_test = confusion_matrix(y_iad_test, y_iad_test_pred, labels=logM_iad.classes_)\n",
        "\n",
        "disp_test_iad = ConfusionMatrixDisplay(confusion_matrix=cm_iad_logM_test, display_labels=logM_iad.classes_)\n",
        "disp_test_iad.plot()"
      ],
      "metadata": {
        "id": "XAqKWqhbt_bu"
      },
      "execution_count": null,
      "outputs": []
    },
    {
      "cell_type": "code",
      "source": [
        "# Cross validation to check overfiting/underfitting\n",
        "\n",
        "logM_iad_cv = LogisticRegression(penalty='none', solver='saga', random_state=0)\n",
        "f1_cv_iad = cross_validate(5, X_iad, y_iad, logM_iad_cv)\n",
        "print(\"Macro Average f1-score for each fold of Logistic Regression Model: \",f1_cv_iad)\n",
        "print(\"Average Score: \",np.mean(f1_cv_iad))"
      ],
      "metadata": {
        "id": "tw2LD4ozwFO7"
      },
      "execution_count": null,
      "outputs": []
    },
    {
      "cell_type": "code",
      "source": [
        "#logistic Regression with Polynomial Features of degree 2 \n",
        "\n",
        "from sklearn.preprocessing import PolynomialFeatures\n",
        "polyreg = PolynomialFeatures(degree=2)\n",
        "\n",
        "#Generating the polynomial feature\n",
        "X_poly_iad = polyreg.fit_transform(X_iad_train)\n",
        "\n",
        "# Fitting Logistic Regression to training set\n",
        "logM_iad_poly = LogisticRegression(penalty='none', solver='saga', random_state=0)\n",
        "logM_iad_poly.fit(X_poly_iad, y_iad_train)\n",
        "\n",
        "# Making predictions\n",
        "y_iad_train_pred_poly = logM_iad_poly.predict(X_poly_iad) #Training set\n",
        "y_iad_test_pred_poly = logM_iad_poly.predict(polyreg.transform(X_iad_test)) #Test set"
      ],
      "metadata": {
        "id": "fj0DUiUvu3yE"
      },
      "execution_count": null,
      "outputs": []
    },
    {
      "cell_type": "code",
      "source": [
        "# Calculating F1-scores\n",
        "\n",
        "#Training Report\n",
        "log_report_train_iad = classification_report(y_iad_train, y_iad_train_pred_poly)\n",
        "print(\"Training Classification Report: Logistic Regression for IADSE dataset:\\n\",log_report_train_iad)\n",
        "\n",
        "#Getting confusion matrix for Training Data\n",
        "cm_iad_logM_train_poly = confusion_matrix(y_iad_train, y_iad_train_pred_poly, labels=logM_iad_poly.classes_)\n",
        "\n",
        "disp_train_poly_iad = ConfusionMatrixDisplay(confusion_matrix=cm_iad_logM_train_poly, display_labels=logM_iad_poly.classes_)\n",
        "disp_train_poly_iad.plot()\n",
        "\n",
        "#Testing Report\n",
        "log_report_test_iad = classification_report(y_iad_test, y_iad_test_pred_poly)\n",
        "print(\"Testing Classification Report: Logistic Regression for IADSE dataset:\\n\",log_report_test_iad)\n",
        "\n",
        "#Getting confusion matrix for Testing Data\n",
        "cm_iad_logM_test_poly = confusion_matrix(y_iad_test, y_iad_test_pred_poly, labels=logM_iad_poly.classes_)\n",
        "\n",
        "disp_train_poly_iad = ConfusionMatrixDisplay(confusion_matrix=cm_iad_logM_test_poly, display_labels=logM_iad_poly.classes_)\n",
        "disp_train_poly_iad.plot()"
      ],
      "metadata": {
        "id": "v4o0ZJ5YvQ2-"
      },
      "execution_count": null,
      "outputs": []
    },
    {
      "cell_type": "code",
      "source": [
        "#Cross-Validation of Logistic Regression with Polynomial Features\n",
        "logM_iad_poly_cv = LogisticRegression(penalty='none', solver='saga', C=0.4, random_state=0)\n",
        "f1_cv_iad_poly = cross_validate(5, pd.DataFrame(polyreg.transform(X_iad)), y_iad, logM_iad_poly_cv)\n",
        "print(\"Macro Average f1-score for each fold of Logistic Regression Model: \",f1_cv_iad_poly)\n",
        "print(\"Average Score: \",np.mean(f1_cv_iad_poly))"
      ],
      "metadata": {
        "id": "wTYEdHwDv4Nk"
      },
      "execution_count": null,
      "outputs": []
    },
    {
      "cell_type": "markdown",
      "source": [
        "<a name='RandomForestClassifier'></a>\n",
        "\n",
        "#### 2.2.2 RandomForestClassifier"
      ],
      "metadata": {
        "id": "g-J8uowLyAv6"
      }
    },
    {
      "cell_type": "code",
      "source": [
        "from sklearn.ensemble import RandomForestClassifier\n",
        "\n",
        "# Splitting the dataset into Train, Validate and Test sets for tuning Random Forest into a 60, 20, 20 split (split the train set into 0.75 0.25 to achieve it)\n",
        "X_iad_train_rf, X_iad_val_rf, y_iad_train_rf, y_iad_val_rf,  = train_test_split(X_iad_train, y_iad_train, test_size=0.25, random_state=0)"
      ],
      "metadata": {
        "id": "68JM0DRCyAv6"
      },
      "execution_count": null,
      "outputs": []
    },
    {
      "cell_type": "code",
      "source": [
        "# Train model using training set\n",
        "rf_iad_validate = RandomForestClassifier(n_estimators=80, max_depth=10, min_samples_leaf=3, criterion='entropy', random_state=0)\n",
        "rf_iad_validate.fit(X_iad_train_rf, y_iad_train_rf)\n",
        "\n",
        "# Evaluation using validation set: Making predictions \n",
        "y_iad_train_pred_rf = rf_iad_validate.predict(X_iad_train_rf) #Training set\n",
        "y_iad_val_pred_rf = rf_iad_validate.predict(X_iad_val_rf) #Validation set\n"
      ],
      "metadata": {
        "id": "0U5p-cnHyAv6"
      },
      "execution_count": null,
      "outputs": []
    },
    {
      "cell_type": "code",
      "source": [
        "# Calculating F1-scores\n",
        "\n",
        "#Training Report\n",
        "rf_report_train_iad = classification_report(y_iad_train_rf, y_iad_train_pred_rf)\n",
        "print(\"Training Classification Report: Logistic Regression for IADSE dataset:\\n\",rf_report_train_iad)\n",
        "\n",
        "#Getting confusion matrix for Training Data\n",
        "cm_iad_rf_train = confusion_matrix(y_iad_train_rf, y_iad_train_pred_rf, labels=rf_iad_validate.classes_)\n",
        "\n",
        "disp_train_iad = ConfusionMatrixDisplay(confusion_matrix=cm_iad_rf_train, display_labels=rf_iad_validate.classes_)\n",
        "disp_train_iad.plot()\n",
        "\n",
        "#Validation Report\n",
        "rf_report_validate_iad = classification_report(y_iad_val_rf, y_iad_val_pred_rf)\n",
        "print(\"Validation Classification Report: Logistic Regression for IADSE dataset:\\n\",rf_report_validate_iad)\n",
        "\n",
        "#Getting confusion matrix for Training Data\n",
        "cm_iad_rf_validation = confusion_matrix(y_iad_val_rf, y_iad_val_pred_rf, labels=rf_iad_validate.classes_)\n",
        "\n",
        "disp_train_iad = ConfusionMatrixDisplay(confusion_matrix=cm_iad_rf_validation, display_labels=rf_iad_validate.classes_)\n",
        "disp_train_iad.plot()"
      ],
      "metadata": {
        "id": "j8PoigyaxAUM"
      },
      "execution_count": null,
      "outputs": []
    },
    {
      "cell_type": "code",
      "source": [
        "# Train model again using training and validation set\n",
        "rf_iad = RandomForestClassifier(n_estimators=80, max_depth=10, min_samples_leaf=3, criterion='entropy', random_state=0)\n",
        "rf_iad.fit(X_iad_train, y_iad_train)\n",
        "\n",
        "# Making predictions \n",
        "y_iad_train_pred_rf = rf_iad.predict(X_iad_train) #Training set\n",
        "y_iad_test_pred_rf = rf_iad.predict(X_iad_test) #Test set\n",
        "\n",
        "# Calculating F1-scores\n",
        "#Training Report\n",
        "rf_report_train_iad = classification_report(y_iad_train, y_iad_train_pred_rf)\n",
        "print(\"Training Classification Report: Random Forest Classification for IADSE dataset:\\n\",rf_report_train_iad)\n",
        "\n",
        "#Getting confusion matrix for Training Data\n",
        "cm_iad_rf_train = confusion_matrix(y_iad_train, y_iad_train_pred_rf, labels=rf_iad.classes_)\n",
        "\n",
        "disp_train_iad = ConfusionMatrixDisplay(confusion_matrix=cm_iad_rf_train, display_labels=rf_iad.classes_)\n",
        "disp_train_iad.plot()\n",
        "\n",
        "#Testing Report\n",
        "rf_report_test_iad = classification_report(y_iad_test, y_iad_test_pred_rf)\n",
        "print(\"Testing Classification Report: Logistic Regression for IADSE dataset:\\n\",rf_report_test_iad)\n",
        "\n",
        "#Getting confusion matrix for Testing Data\n",
        "cm_iad_rf_test = confusion_matrix(y_iad_test, y_iad_test_pred_rf, labels=rf_iad.classes_)\n",
        "\n",
        "disp_test_iad = ConfusionMatrixDisplay(confusion_matrix=cm_iad_rf_test, display_labels=rf_iad.classes_)\n",
        "disp_test_iad.plot()"
      ],
      "metadata": {
        "id": "X5c4fILXx4Ib"
      },
      "execution_count": null,
      "outputs": []
    },
    {
      "cell_type": "code",
      "source": [
        "#Cross validation to check overfiting/underfitting\n",
        "f1_cv_iad_rf = cross_validate(5, X_iad, y_iad, rf_iad)\n",
        "print(\"Macro Average f1-score for each fold of Logistic Regression Model: \",f1_cv_iad_rf)\n",
        "print(\"Average score: \",np.mean(f1_cv_iad_rf))"
      ],
      "metadata": {
        "id": "XF02XBAZx4Ib"
      },
      "execution_count": null,
      "outputs": []
    },
    {
      "cell_type": "markdown",
      "source": [
        "<a name='Feature selection'></a>\n",
        "\n",
        "### 2.3 Feature Selection"
      ],
      "metadata": {
        "id": "hovWVc1nVAeh"
      }
    },
    {
      "cell_type": "markdown",
      "source": [
        "<a name='load_data'></a>\n",
        "\n",
        "#### 2.3.1 Filter method\n"
      ],
      "metadata": {
        "id": "AzOU1K4dVWil"
      }
    },
    {
      "cell_type": "code",
      "source": [
        "# original X_iad_train shape\n",
        "X_iad_train.shape"
      ],
      "metadata": {
        "id": "ZTjC4mIjzN86"
      },
      "execution_count": null,
      "outputs": []
    },
    {
      "cell_type": "code",
      "execution_count": null,
      "metadata": {
        "id": "WhWgB78yzN87"
      },
      "outputs": [],
      "source": [
        "# Removing Constant features using VarianceThreshold\n",
        "\n",
        "constant_filter = VarianceThreshold(threshold=0)\n",
        "\n",
        "#Fit and transforming on train data\n",
        "data_constant = constant_filter.fit_transform(X_iad_train)\n",
        "\n",
        "#Extracting all constant columns using get support function of our filter\n",
        "constant_columns = [column for column in X_iad_train.columns\n",
        "                   if column not in X_iad_train.columns[constant_filter.get_support()]]\n",
        "\n",
        "#No. of constant columns\n",
        "print(len(constant_columns))\n",
        "print(\"No constant features were found.\")\n"
      ]
    },
    {
      "cell_type": "code",
      "execution_count": null,
      "metadata": {
        "id": "Jj7XMMBizN87"
      },
      "outputs": [],
      "source": [
        "# Removing Quasi-Constant Features\n",
        "\n",
        "qcons_filter = VarianceThreshold(threshold=0.01)\n",
        "\n",
        "#Fitand transforming on train data\n",
        "data_qcons = qcons_filter.fit_transform(X_iad_train)\n",
        "\n",
        "#Extracting all Quasi constant columns using get support function of our filter\n",
        "qcons_columns = [column for column in X_iad_train.columns\n",
        "                    if column not in X_iad_train.columns[qcons_filter.get_support()]]\n",
        "\n",
        "#No. of Quasi constant columns\n",
        "print(len(qcons_columns)) \n",
        "print(f'{len(qcons_columns)} quasi-constant features were found.')\n",
        "\n",
        "#Removing identified quasi-constant columns\n",
        "X_iad_train1 = X_iad_train.drop(qcons_columns,axis=1)\n",
        "X_iad_test1 = X_iad_test.drop(qcons_columns,axis=1)\n",
        "print(X_iad_train1.shape)\n",
        "print(X_iad_test1.shape)"
      ]
    },
    {
      "cell_type": "markdown",
      "source": [
        "<a name='Training with selected features'></a>\n",
        "\n",
        "##### 2.3.1.1  Logistic Regression"
      ],
      "metadata": {
        "id": "nJxk-9aWzN88"
      }
    },
    {
      "cell_type": "code",
      "source": [
        "from sklearn.feature_selection import SelectKBest\n",
        "from sklearn.feature_selection import f_classif\n",
        "\n",
        "# feature selection\n",
        "def select_features(X_train, y_train, X_test, num):\n",
        "\t# configure to select \"num\" features\n",
        "\tfs = SelectKBest(score_func=f_classif, k=num)\n",
        "\t# learn relationship from training data\n",
        "\tfs.fit(X_train, y_train)\n",
        "\t# transform train input data\n",
        "\tX_train_fs = fs.transform(X_train)\n",
        "\t# transform test input data\n",
        "\tX_test_fs = fs.transform(X_test)\n",
        "\treturn X_train_fs, X_test_fs, fs"
      ],
      "metadata": {
        "id": "OcPqRPm6zN88"
      },
      "execution_count": null,
      "outputs": []
    },
    {
      "cell_type": "code",
      "source": [
        "# Select K best features, change \"num\" to get the best results.\n",
        "X_iad_train_logM_filter, X_iad_test_logM_filter, fs_logM_filter = select_features(X_iad_train1, y_iad_train, X_iad_test1, 20)"
      ],
      "metadata": {
        "id": "8yEQre47zN88"
      },
      "execution_count": null,
      "outputs": []
    },
    {
      "cell_type": "code",
      "source": [
        "#Fitting Logistic Regression to training set\n",
        "logM_iad_filter = LogisticRegression(penalty='none', solver='saga', random_state=0)\n",
        "logM_iad_filter.fit(X_iad_train_logM_filter, y_iad_train)\n",
        "\n",
        "#Making predictions\n",
        "y_iad_train_pred_filter = logM_iad_filter.predict(X_iad_train_logM_filter) #Training set\n",
        "y_iad_test_pred_filter = logM_iad_filter.predict(X_iad_test_logM_filter) #Test set\n",
        "\n",
        "# Calculating F1-scores\n",
        "\n",
        "#Training Report\n",
        "logM_report_train_iad_filter = classification_report(y_iad_train, y_iad_train_pred_filter)\n",
        "print(\"Training Classification Report: Logistic Regression (After Feature Selection) for IADSE dataset:\\n\",logM_report_train_iad_filter)\n",
        "\n",
        "#Getting confusion matrix for Training Data\n",
        "cm_iad_logM_train_filter = confusion_matrix(y_iad_train, y_iad_train_pred_filter, labels=logM_iad_filter.classes_)\n",
        "\n",
        "disp_train_iad = ConfusionMatrixDisplay(confusion_matrix=cm_iad_logM_train_filter, display_labels=logM_iad_filter.classes_)\n",
        "disp_train_iad.plot()\n",
        "\n",
        "#Testing Report\n",
        "logM_report_test_iad_filter = classification_report(y_iad_test, y_iad_test_pred_filter)\n",
        "print(\"Testing Classification Report: Logistic Regression (After Feature Selection) for IADSE dataset:\\n\",logM_report_test_iad_filter)\n",
        "\n",
        "#Getting confusion matrix for Testing Data\n",
        "cm_iad_logM_test_filter = confusion_matrix(y_iad_test, y_iad_test_pred_filter, labels=logM_iad_filter.classes_)\n",
        "\n",
        "disp_test_iad = ConfusionMatrixDisplay(confusion_matrix=cm_iad_logM_test_filter, display_labels=logM_iad_filter.classes_)\n",
        "disp_test_iad.plot()"
      ],
      "metadata": {
        "id": "sYNjYK9kzN88"
      },
      "execution_count": null,
      "outputs": []
    },
    {
      "cell_type": "code",
      "source": [
        "# Cross validation to check overfiting/underfitting\n",
        "df4 = pd.DataFrame(X_iad_train_logM_filter)\n",
        "f1_cv_iad_logM_filter = cross_validate(5, df4, y_iad_train, logM_iad_filter)\n",
        "print(\"F1-score for each fold of Logistic Regression Model: \",f1_cv_iad_logM_filter)\n",
        "print(\"Average F1-score: \",np.mean(f1_cv_iad_logM_filter))"
      ],
      "metadata": {
        "id": "RExWfAtQzN88"
      },
      "execution_count": null,
      "outputs": []
    },
    {
      "cell_type": "markdown",
      "source": [
        "<a name='Training with selected features'></a>\n",
        "\n",
        "##### 2.3.1.2  RandomForestClassifier"
      ],
      "metadata": {
        "id": "TGuY1ipn3QkJ"
      }
    },
    {
      "cell_type": "code",
      "source": [
        "# Select K best features, change \"num\" to get the best results.\n",
        "X_iad_train_rf_filter, X_iad_test_rf_filter, fs_rf_filter = select_features(X_iad_train1, y_iad_train, X_iad_test1, 25)"
      ],
      "metadata": {
        "id": "SUayTje43QkP"
      },
      "execution_count": null,
      "outputs": []
    },
    {
      "cell_type": "code",
      "source": [
        "#Use GridSearch to fine tune model\n",
        "\n",
        "from sklearn.model_selection import GridSearchCV\n",
        "\n",
        "rf_filter_iad = RandomForestClassifier()\n",
        "tune_paragm = {\n",
        "    'n_estimators': [50, 100, 150],\n",
        "    'max_depth': [10, 50, 100],\n",
        "    'min_samples_split': [2, 3, 5],\n",
        "    'min_samples_leaf': [2, 3, 5],\n",
        "    'criterion': ['gini', 'entropy']\n",
        "}\n",
        "rf_gdcv_iad_filter = GridSearchCV(rf_filter_iad, tune_paragm, n_jobs=-1, cv=5, scoring='f1_macro')\n",
        "rf_gdcv_iad_filter.fit(X_iad_train_rf_filter, y_iad_train)"
      ],
      "metadata": {
        "id": "4ECB2uCZ3QkP"
      },
      "execution_count": null,
      "outputs": []
    },
    {
      "cell_type": "code",
      "source": [
        "# Get the best parameters\n",
        "rf_gdcv_iad_filter.best_params_\n",
        "\n",
        "# Save the seed\n",
        "\n",
        "# num=20: 'criterion': 'entropy', 'max_depth': 100, 'min_samples_leaf': 2, 'min_samples_split': 3, 'n_estimators': 150\n",
        "# num=25: 'criterion': 'entropy', 'max_depth': 50, 'min_samples_leaf': 2, 'min_samples_split': 3, 'n_estimators': 50\n",
        "# num=30: 'criterion': 'entropy', 'max_depth': 100, 'min_samples_leaf': 3, 'min_samples_split': 2, 'n_estimators': 100"
      ],
      "metadata": {
        "id": "xnqohGjb3QkP"
      },
      "execution_count": null,
      "outputs": []
    },
    {
      "cell_type": "code",
      "source": [
        "rf_iad_filter = RandomForestClassifier(n_estimators=50, max_depth=50, min_samples_split=3, min_samples_leaf=2, criterion='entropy', random_state=0)\n",
        "rf_iad_filter.fit(X_iad_train_rf_filter, y_iad_train)\n",
        "\n",
        "# Making predictions \n",
        "y_iad_train_pred_rf_filter = rf_iad_filter.predict(X_iad_train_rf_filter) #Training set\n",
        "y_iad_test_pred_rf_filter = rf_iad_filter.predict(X_iad_test_rf_filter) #Test set\n",
        "\n",
        "# Calculating F1-scores\n",
        "\n",
        "#Training Report\n",
        "rf_report_train_iad_filter = classification_report(y_iad_train, y_iad_train_pred_rf_filter)\n",
        "print(\"Training Classification Report: Random Forest (After Feature Selection) for IADSE dataset:\\n\",rf_report_train_iad_filter)\n",
        "\n",
        "#Getting confusion matrix for Training Data\n",
        "cm_iad_rf_train_filter = confusion_matrix(y_iad_train, y_iad_train_pred_rf_filter, labels=rf_iad_filter.classes_)\n",
        "\n",
        "disp_train = ConfusionMatrixDisplay(confusion_matrix=cm_iad_rf_train_filter, display_labels=rf_iad_filter.classes_)\n",
        "disp_train.plot()\n",
        "\n",
        "#Testing Report\n",
        "rf_report_test_iad_filter = classification_report(y_iad_test, y_iad_test_pred_rf_filter)\n",
        "print(\"Testing Classification Report: Random Forest (After Feature Selection) for IADSE dataset:\\n\",rf_report_test_iad_filter)\n",
        "\n",
        "#Getting confusion matrix for Testing Data\n",
        "cm_iad_rf_test_filter = confusion_matrix(y_iad_test, y_iad_test_pred_rf_filter, labels=rf_iad_filter.classes_)\n",
        "\n",
        "disp_test = ConfusionMatrixDisplay(confusion_matrix=cm_iad_rf_test_filter, display_labels=rf_iad_filter.classes_)\n",
        "disp_test.plot()"
      ],
      "metadata": {
        "id": "0KdlI61j3QkP"
      },
      "execution_count": null,
      "outputs": []
    },
    {
      "cell_type": "code",
      "source": [
        "# Cross validation to check overfiting/underfitting\n",
        "f1_cv_iad_rf_filter = cross_validate(5, df4, y_iad_train, rf_iad_filter)\n",
        "print(\"Macro Average f1-score for each fold of Logistic Regression Model: \",f1_cv_iad_rf_filter)\n",
        "print(\"Average score: \",np.mean(f1_cv_iad_rf_filter))"
      ],
      "metadata": {
        "id": "Gaa0E9YI3QkP"
      },
      "execution_count": null,
      "outputs": []
    },
    {
      "cell_type": "markdown",
      "source": [
        "<a name='boruta'></a>\n",
        "\n",
        "#### 2.3.2 Boruta Algorithm\n"
      ],
      "metadata": {
        "id": "eWNzy-tX0ndJ"
      }
    },
    {
      "cell_type": "code",
      "source": [
        "X_iad_train.shape"
      ],
      "metadata": {
        "id": "mYV1ZnSP0ndJ"
      },
      "execution_count": null,
      "outputs": []
    },
    {
      "cell_type": "code",
      "source": [
        "###initialize Boruta\n",
        "forest = RandomForestClassifier(n_jobs = -1)\n",
        "boruta = BorutaPy(estimator = forest, n_estimators = 'auto', max_iter = 100)\n",
        "\n",
        "### fit Boruta (it accepts np.array, not pd.DataFrame)\n",
        "boruta.fit(np.array(X_iad_train), np.array(y_iad_train))\n",
        "### print results\n",
        "green_area = X_iad_train.columns[boruta.support_].to_list()\n",
        "blue_area = X_iad_train.columns[boruta.support_weak_].to_list()\n",
        "\n",
        "print('number of features in the green area:', len(green_area))\n",
        "print(green_area)\n",
        "print('number of features in the blue area:', len(blue_area))\n",
        "print(blue_area)\n",
        "\n",
        "boruta_selected_features_iad = green_area + blue_area"
      ],
      "metadata": {
        "id": "u-c9TO-H0ndJ"
      },
      "execution_count": null,
      "outputs": []
    },
    {
      "cell_type": "markdown",
      "source": [
        "<a name='Training with selected features'></a>\n",
        "\n",
        "##### 2.3.2.1  Logistic Regression"
      ],
      "metadata": {
        "id": "iZadchaC1WRN"
      }
    },
    {
      "cell_type": "code",
      "source": [
        "#Fitting Logistic Regression to training set\n",
        "logM_iad_boruta = LogisticRegression(penalty='none', solver='saga', random_state=0)\n",
        "logM_iad_boruta.fit(X_iad_train[boruta_selected_features_iad], y_iad_train)\n",
        "\n",
        "#Making predictions\n",
        "y_iad_train_pred_boruta = logM_iad_boruta.predict(X_iad_train[boruta_selected_features_iad]) #Training set\n",
        "y_iad_test_pred_boruta = logM_iad_boruta.predict(X_iad_test[boruta_selected_features_iad]) #Test set\n",
        "\n",
        "# Calculating F1-scores\n",
        "\n",
        "#Training Report\n",
        "logM_report_train_iad_boruta = classification_report(y_iad_train, y_iad_train_pred_boruta)\n",
        "print(\"Training Classification Report: Logistic Regression (After Feature Selection) for IADSE dataset:\\n\",logM_report_train_iad_boruta)\n",
        "\n",
        "#Getting confusion matrix for Training Data\n",
        "cm_iad_logM_train_boruta = confusion_matrix(y_iad_train, y_iad_train_pred_boruta, labels=logM_iad_boruta.classes_)\n",
        "\n",
        "disp_train = ConfusionMatrixDisplay(confusion_matrix=cm_iad_logM_train_boruta, display_labels=logM_iad_boruta.classes_)\n",
        "disp_train.plot()\n",
        "\n",
        "#Testing Report\n",
        "logM_report_test_iad_boruta = classification_report(y_iad_test, y_iad_test_pred_boruta)\n",
        "print(\"Testing Classification Report: Logistic Regression (After Feature Selection) for IADSE dataset:\\n\",logM_report_test_iad_boruta)\n",
        "\n",
        "#Getting confusion matrix for Testing Data\n",
        "cm_iad_logM_test_boruta = confusion_matrix(y_iad_test, y_iad_test_pred_boruta, labels=logM_iad_boruta.classes_)\n",
        "\n",
        "disp_test = ConfusionMatrixDisplay(confusion_matrix=cm_iad_logM_test_boruta, display_labels=logM_iad_boruta.classes_)\n",
        "disp_test.plot()"
      ],
      "metadata": {
        "id": "2cy_Swty1WRN"
      },
      "execution_count": null,
      "outputs": []
    },
    {
      "cell_type": "code",
      "source": [
        "# Cross validation to check overfiting/underfitting\n",
        "df5 = pd.DataFrame(X_iad_train[boruta_selected_features_iad])\n",
        "f1_cv_iad_logM_boruta = cross_validate(5, df5, y_iad_train, logM_iad_boruta)\n",
        "print(\"Macro Average F1-score for each fold of Logistic Regression Model: \",f1_cv_iad_logM_boruta)\n",
        "print(\"Average F1-score: \",np.mean(f1_cv_iad_logM_filter))"
      ],
      "metadata": {
        "id": "NiZ03I4T1WRN"
      },
      "execution_count": null,
      "outputs": []
    },
    {
      "cell_type": "markdown",
      "source": [
        "<a name='Training with selected features'></a>\n",
        "\n",
        "##### 2.3.2.2  RandomForestClassifier"
      ],
      "metadata": {
        "id": "ZXYUpfHt2JSI"
      }
    },
    {
      "cell_type": "code",
      "source": [
        "#Use GridSearch to fine tune Random Forest model\n",
        "\n",
        "rf_boruta = RandomForestClassifier()\n",
        "tune_paragm = {\n",
        "    'n_estimators': [50, 100, 150],\n",
        "    'max_depth': [10, 50, 100],\n",
        "    'min_samples_split': [2, 3, 5],\n",
        "    'min_samples_leaf': [2, 3, 5],\n",
        "    'criterion': ['gini', 'entropy']\n",
        "}\n",
        "rf_gdcv_boruta = GridSearchCV(rf_boruta, tune_paragm, n_jobs=-1, cv=5)\n",
        "rf_gdcv_boruta.fit(X_iad_train[boruta_selected_features_iad], y_iad_train)\n",
        "\n",
        "print(rf_gdcv_boruta.best_params_)"
      ],
      "metadata": {
        "id": "X6PVq_7_2JSI"
      },
      "execution_count": null,
      "outputs": []
    },
    {
      "cell_type": "code",
      "source": [
        "rf_iad_boruta = RandomForestClassifier(n_estimators=150, max_depth=100, min_samples_split=3, min_samples_leaf=3, criterion='entropy', random_state=0)\n",
        "rf_iad_boruta.fit(X_iad_train[boruta_selected_features_iad], y_iad_train)\n",
        "\n",
        "# Making predictions \n",
        "y_iad_train_pred_rf_boruta = rf_iad_boruta.predict(X_iad_train[boruta_selected_features_iad]) #Training set\n",
        "y_iad_test_pred_rf_boruta = rf_iad_boruta.predict(X_iad_test[boruta_selected_features_iad]) #Test set\n",
        "\n",
        "# Calculating F1-scores\n",
        "\n",
        "#Training Report\n",
        "rf_report_train_iad_boruta = classification_report(y_iad_train, y_iad_train_pred_rf_boruta)\n",
        "print(\"Training Classification Report: Random Forest (After Feature Selection) for IADSE dataset:\\n\",rf_report_train_iad_boruta)\n",
        "\n",
        "#Getting confusion matrix for Training Data\n",
        "cm_iad_rf_train_boruta = confusion_matrix(y_iad_train, y_iad_train_pred_rf_boruta, labels=rf_iad_boruta.classes_)\n",
        "\n",
        "disp_train = ConfusionMatrixDisplay(confusion_matrix=cm_iad_rf_train_boruta, display_labels=rf_iad_boruta.classes_)\n",
        "disp_train.plot()\n",
        "\n",
        "#Testing Report\n",
        "rf_report_test_iad_boruta = classification_report(y_iad_test, y_iad_test_pred_rf_boruta)\n",
        "print(\"Testing Classification Report: Random Forest (After Feature Selection) for IADSE dataset:\\n\",rf_report_test_iad_boruta)\n",
        "\n",
        "#Getting confusion matrix for Testing Data\n",
        "cm_iad_rf_test_boruta = confusion_matrix(y_iad_test, y_iad_test_pred_rf_boruta, labels=rf_iad_boruta.classes_)\n",
        "\n",
        "disp_test = ConfusionMatrixDisplay(confusion_matrix=cm_iad_rf_test_boruta, display_labels=rf_iad_boruta.classes_)\n",
        "disp_test.plot()"
      ],
      "metadata": {
        "id": "mtNJh7ra2JSJ"
      },
      "execution_count": null,
      "outputs": []
    },
    {
      "cell_type": "code",
      "source": [
        "# Cross validation to check overfiting/underfitting\n",
        "f1_cv_iad_rf_boruta = cross_validate(5, df5, y_iad_train, rf_iad_boruta)\n",
        "print(\"Macro Average F1-score  for each fold of Logistic Regression Model: \",f1_cv_iad_rf_boruta)\n",
        "print(\"Average F1-score: \",np.mean(f1_cv_iad_rf_boruta))"
      ],
      "metadata": {
        "id": "aL2x3hAI2JSJ"
      },
      "execution_count": null,
      "outputs": []
    }
  ],
  "metadata": {
    "colab": {
      "provenance": [],
      "toc_visible": true,
      "include_colab_link": true
    },
    "kernelspec": {
      "display_name": "Python 3",
      "language": "python",
      "name": "python3"
    }
  },
  "nbformat": 4,
  "nbformat_minor": 0
}